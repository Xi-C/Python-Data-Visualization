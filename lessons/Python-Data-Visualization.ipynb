{
 "cells": [
  {
   "cell_type": "markdown",
   "metadata": {},
   "source": [
    "# Theory of Data Visualization\n",
    "\n",
    "Visualization is meant to convey information.\n",
    "\n",
    "> The power of a graph is its ability to enable one to take in the quantitative information, organize it, and see patterns and structure not readily revealed by other means of studying the data.\n",
    "\n",
    "\\- Cleveland and McGill, 1984\n",
    "\n",
    "Certain techniques make that information easier to interpret and understand. In their 1984 paper titled, \"[Graphical Perception: Theory, Experimentation, and Application to the Development of Graphical Methods](https://www-jstor-org.libproxy.berkeley.edu/stable/2288400?seq=1#page_scan_tab_contents),\" Cleveland and McGill identify 10 elementary perceptual tasks that are used to \"extract quantitative information from graphs.\" Their premise is:\n",
    "\n",
    "> A graphical form that involves elementary perceptual tasks that lead to more accurate judgments than another graphical form (with the same quantitative information) will result in better organization and increase the chances of a correct perception of patterns and behavior.\n",
    "\n",
    "Whereas graph design had, up to that point, been \"largely unscientific,\" Cleveland and McGill took a systematic approach in analyzing human graphical perception through experimentation. Their researched helped identify the most and least accurate elementary perceptual tasks, ordered below:\n",
    "\n",
    "1. Position along a common scale\n",
    "2. Position along non-aligned scales\n",
    "3. Length, direction, angle\n",
    "4. Area\n",
    "5. Volume, curvature\n",
    "6. Shading, color saturation\n",
    "\n",
    "In 2010, [Heer and Bostock](http://vis.stanford.edu/files/2010-MTurk-CHI.pdf) confirmed these results using Amazon's Mechanical Turk.\n",
    "\n",
    "Let's take a look at a few examples. Because we're only interested in relative sizes, we don't include a legend with size information or reference points."
   ]
  },
  {
   "cell_type": "markdown",
   "metadata": {},
   "source": [
    "![circles](../images/circles.png)"
   ]
  },
  {
   "cell_type": "markdown",
   "metadata": {},
   "source": [
    "For circles of distinctly different sizes, the comparison is simple. For example, \"A\" is smaller than \"B.\" However, for circles, such as \"L\" and \"M,\" that are almost the same size, it's difficult to tell which is smaller. Area, according to Cleveland and McGill's research, is less accurate than, say, length, which we consider next."
   ]
  },
  {
   "cell_type": "markdown",
   "metadata": {},
   "source": [
    "![bars](../images/bars.png)"
   ]
  },
  {
   "cell_type": "markdown",
   "metadata": {},
   "source": [
    "Focusing on \"L\" and \"M,\" it is clear to see which is larger. You might be wondering whether scale makes a difference&mdash;that is, if the small circle sizes make it difficult to compare. It doesn't.\n",
    "\n",
    "Next, we consider a case where we want to plot two series. For this example, let's suppose we're working with student English and math test scores. Here, we'll want to use bars, which we arbitrarily label Z-L. The question is, which bars should we use? This is a case where the answer depends on what we're trying to communicate. If we're interested in showing total scores, we could use a stacked bar chart."
   ]
  },
  {
   "cell_type": "markdown",
   "metadata": {},
   "source": [
    "![two_bars](../images/two-series-0.png)"
   ]
  },
  {
   "cell_type": "markdown",
   "metadata": {},
   "source": [
    "We can tell that \"Y\" and \"L\" had the highest cumulative scores. What if we want to know which students scored highest on the math exam? Because the math portions of each bar are on \"non-aligned scales,\" as Cleveland and McGill call it, it's difficult to tell. One solution is to plot these on opposite sides of the x-axis."
   ]
  },
  {
   "cell_type": "markdown",
   "metadata": {},
   "source": [
    "![two_bars_centered](../images/two-series-1.png)"
   ]
  },
  {
   "cell_type": "markdown",
   "metadata": {},
   "source": [
    "Now, it's easier to see that \"R\" scored quite well on the math exam. The tradeoff with this layout is that it's difficult to compare cumulative scores. Comparing \"Z\" and \"O,\" for example, is a challenge. Again, it depends on what the message is.\n",
    "\n",
    "These findings are a *guide* for what works when the goal is to make accurate judgments. Sometimes, however, the goal might not be to allow for precise comparisons but, rather, to facilitate the perception of larger patterns."
   ]
  },
  {
   "cell_type": "markdown",
   "metadata": {},
   "source": [
    "## Form and Function\n",
    "\n",
    "> A good graphic realizes two basic goals: It **presents** information, and it allows users to **explore** that information.\n",
    "\n",
    "\\- Alberto Cairo\n",
    "\n",
    "-------------------------\n",
    "\n",
    "> A data visualization should only be beautiful when beauty can promote understanding in some way without undermining it in another. Is beauty sometimes useful? Certainly. Is beauty always useful? Certainly not.\n",
    "\n",
    "\\- Stephen Few\n",
    "\n",
    "-------------------------\n",
    "\n",
    "> Good displays of data help to reveal knowledge relevant to understanding mechanism, process and dynamics, cause and effect.\n",
    "\n",
    "\\- Edward Tufte\n",
    "\n",
    "-------------------------\n",
    "\n",
    ">A figure is ineffective if it \"wastes too much real estate (and the designer's time) on things that don't help readers understand [it].\" \n",
    "\n",
    "\\- Alberto Cairo\n",
    "\n",
    "-------------------------\n",
    "\n",
    "> The important criterion for a graph is not simply how fast we can see a result; rather it is whether through the use of the graph we can see something that would have been harder to see otherwise or that could not have been seen at all.\n",
    "\n",
    "\\- William Cleveland\n",
    "\n",
    "-------------------------\n",
    "\n",
    "> [A]lways take advantage of the space you have available to seek depth within reasonable limits. After that, *and only after that*, worry about how to make the presentation prettier.\n",
    "\n",
    "\\- Alberto Cairo\n"
   ]
  },
  {
   "cell_type": "markdown",
   "metadata": {},
   "source": [
    "----------------------"
   ]
  },
  {
   "cell_type": "markdown",
   "metadata": {},
   "source": [
    "Ultimately, identify your audience and their needs and interests. The same data should be visualized differently for a scientific publication versus a magazine."
   ]
  },
  {
   "cell_type": "markdown",
   "metadata": {},
   "source": [
    "# Data Visualization using Python"
   ]
  },
  {
   "cell_type": "markdown",
   "metadata": {},
   "source": [
    "## Matplotlib"
   ]
  },
  {
   "cell_type": "markdown",
   "metadata": {},
   "source": [
    "Now, we'll start learning *how* to create visualizations in Python. We'll start by using a popular python package called `matplotlib`, and later on use a second package called `seaborn` that builds on `matplotlib` First we'll import `matplotlib`, along with several other Python packages we'll be using during this workshop."
   ]
  },
  {
   "cell_type": "code",
   "execution_count": 1,
   "metadata": {},
   "outputs": [],
   "source": [
    "import numpy as np\n",
    "import pandas as pd\n",
    "import matplotlib as mpl\n",
    "import matplotlib.pyplot as plt"
   ]
  },
  {
   "cell_type": "markdown",
   "metadata": {},
   "source": [
    "One of the nice features of Jupyter notebooks is that figures can be plotted inline, which means they appear below the code cell that creates them. This is not the default behavior however, and so we'll use the below **\"Magic\"** statement (these statements are added to solve simple problems) to tell the Jupyter notebook to plot the figures inline (instead of opening a separate browser window to show them)."
   ]
  },
  {
   "cell_type": "code",
   "execution_count": 2,
   "metadata": {},
   "outputs": [],
   "source": [
    "%matplotlib inline"
   ]
  },
  {
   "cell_type": "markdown",
   "metadata": {},
   "source": [
    "### Import the Data Set"
   ]
  },
  {
   "cell_type": "markdown",
   "metadata": {},
   "source": [
    "To illustrate what `matplotlib` and `seaborn` can do, we'll need to use a dataset. We've decided to use the so-called Gapminder dataset, which was compiled by Jennifer Bryan. This dataset contains several key demographic and economic statistics for many countries, across many years. For more information, see the [gapminder](https://github.com/jennybc/gapminder) repository.\n",
    "\n",
    "We'll use the `pandas` Python package to load the `.csv` (comma separated values) file that contains the dataset. The `pandas` package provides `DataFrame` objects that organize datasets in tabular form (think Microsoft Excel spreadsheets). We've created an alias for the `pandas` package, called `pd`, which is the convention. To read in a `.csv` file we simply use `pd.read_csv`. This `.csv` file happens to be tab-delimited, so we need to specify `sep=\\t`.\n",
    "\n",
    "Also, we're going to use the `pyprojroot` package to obtain the correct file path for the dataset (if you've used R, it's very similar to the `here` package). If you have not installed this package, you can do so within the Jupyter notebook:"
   ]
  },
  {
   "cell_type": "code",
   "execution_count": 3,
   "metadata": {},
   "outputs": [
    {
     "name": "stdout",
     "output_type": "stream",
     "text": [
      "Collecting pyprojroot\n",
      "  Downloading pyprojroot-0.2.0-py3-none-any.whl (5.2 kB)\n",
      "Installing collected packages: pyprojroot\n",
      "Successfully installed pyprojroot-0.2.0\n"
     ]
    }
   ],
   "source": [
    "# Run if you need to install pyprojroot\n",
    "!pip install pyprojroot"
   ]
  },
  {
   "cell_type": "code",
   "execution_count": 4,
   "metadata": {},
   "outputs": [],
   "source": [
    "from pyprojroot import here"
   ]
  },
  {
   "cell_type": "markdown",
   "metadata": {},
   "source": [
    "Then, the `here` function will allow us to easily specify the correct path:"
   ]
  },
  {
   "cell_type": "code",
   "execution_count": 5,
   "metadata": {},
   "outputs": [],
   "source": [
    "gm = pd.read_csv(here('data/gapminder.tsv'), sep='\\t')"
   ]
  },
  {
   "cell_type": "markdown",
   "metadata": {},
   "source": [
    "To look at the first few rows of the dataset we'll use the `.head()` method of the dataframe."
   ]
  },
  {
   "cell_type": "code",
   "execution_count": 6,
   "metadata": {},
   "outputs": [
    {
     "data": {
      "text/html": [
       "<div>\n",
       "<style scoped>\n",
       "    .dataframe tbody tr th:only-of-type {\n",
       "        vertical-align: middle;\n",
       "    }\n",
       "\n",
       "    .dataframe tbody tr th {\n",
       "        vertical-align: top;\n",
       "    }\n",
       "\n",
       "    .dataframe thead th {\n",
       "        text-align: right;\n",
       "    }\n",
       "</style>\n",
       "<table border=\"1\" class=\"dataframe\">\n",
       "  <thead>\n",
       "    <tr style=\"text-align: right;\">\n",
       "      <th></th>\n",
       "      <th>country</th>\n",
       "      <th>continent</th>\n",
       "      <th>year</th>\n",
       "      <th>lifeExp</th>\n",
       "      <th>pop</th>\n",
       "      <th>gdpPercap</th>\n",
       "    </tr>\n",
       "  </thead>\n",
       "  <tbody>\n",
       "    <tr>\n",
       "      <th>0</th>\n",
       "      <td>Afghanistan</td>\n",
       "      <td>Asia</td>\n",
       "      <td>1952</td>\n",
       "      <td>28.801</td>\n",
       "      <td>8425333.0</td>\n",
       "      <td>779.445314</td>\n",
       "    </tr>\n",
       "    <tr>\n",
       "      <th>1</th>\n",
       "      <td>Afghanistan</td>\n",
       "      <td>Asia</td>\n",
       "      <td>1957</td>\n",
       "      <td>30.332</td>\n",
       "      <td>9240934.0</td>\n",
       "      <td>820.853030</td>\n",
       "    </tr>\n",
       "    <tr>\n",
       "      <th>2</th>\n",
       "      <td>Afghanistan</td>\n",
       "      <td>Asia</td>\n",
       "      <td>1962</td>\n",
       "      <td>31.997</td>\n",
       "      <td>10267083.0</td>\n",
       "      <td>853.100710</td>\n",
       "    </tr>\n",
       "    <tr>\n",
       "      <th>3</th>\n",
       "      <td>Afghanistan</td>\n",
       "      <td>Asia</td>\n",
       "      <td>1967</td>\n",
       "      <td>34.020</td>\n",
       "      <td>11537966.0</td>\n",
       "      <td>836.197138</td>\n",
       "    </tr>\n",
       "    <tr>\n",
       "      <th>4</th>\n",
       "      <td>Afghanistan</td>\n",
       "      <td>Asia</td>\n",
       "      <td>1972</td>\n",
       "      <td>36.088</td>\n",
       "      <td>13079460.0</td>\n",
       "      <td>739.981106</td>\n",
       "    </tr>\n",
       "  </tbody>\n",
       "</table>\n",
       "</div>"
      ],
      "text/plain": [
       "       country continent  year  lifeExp         pop   gdpPercap\n",
       "0  Afghanistan      Asia  1952   28.801   8425333.0  779.445314\n",
       "1  Afghanistan      Asia  1957   30.332   9240934.0  820.853030\n",
       "2  Afghanistan      Asia  1962   31.997  10267083.0  853.100710\n",
       "3  Afghanistan      Asia  1967   34.020  11537966.0  836.197138\n",
       "4  Afghanistan      Asia  1972   36.088  13079460.0  739.981106"
      ]
     },
     "execution_count": 6,
     "metadata": {},
     "output_type": "execute_result"
    }
   ],
   "source": [
    "gm.head()"
   ]
  },
  {
   "cell_type": "markdown",
   "metadata": {},
   "source": [
    "It looks like we have information about life expectancy (`lifeExp`), population (`pop`) and per-capita GDP (`gdpPercap`), across multiple years per country. \n",
    "\n",
    "To start off, let's say we want to explore the data from the most recent year in the dataset. First we'll find the maximum value for year, and then create a second `DataFrame` containing data from only that year. We'll do that using Boolean Masking (for an introduction on how to use `pandas`, see the DLab's [\"Introduction to Pandas\" workshop](https://github.com/dlab-berkeley/introduction-to-pandas))"
   ]
  },
  {
   "cell_type": "code",
   "execution_count": 7,
   "metadata": {},
   "outputs": [
    {
     "data": {
      "text/plain": [
       "2007"
      ]
     },
     "execution_count": 7,
     "metadata": {},
     "output_type": "execute_result"
    }
   ],
   "source": [
    "latest_year = gm['year'].max()\n",
    "latest_year"
   ]
  },
  {
   "cell_type": "code",
   "execution_count": 8,
   "metadata": {},
   "outputs": [
    {
     "data": {
      "text/plain": [
       "(142, 6)"
      ]
     },
     "execution_count": 8,
     "metadata": {},
     "output_type": "execute_result"
    }
   ],
   "source": [
    "gm_latest = gm[gm['year'] == latest_year]\n",
    "gm_latest.shape"
   ]
  },
  {
   "cell_type": "markdown",
   "metadata": {},
   "source": [
    "Ok, looks like we have 142 values, or rows, across our 6 variables, or columns. Let's get an idea of how per-capita GDP was distributed across all of the countries during 2007 by calculating some **summary statistics**. We'll do that using the `DataFrame`'s `.describe()` method."
   ]
  },
  {
   "cell_type": "code",
   "execution_count": 9,
   "metadata": {},
   "outputs": [
    {
     "data": {
      "text/plain": [
       "count      142.000000\n",
       "mean     11680.071820\n",
       "std      12859.937337\n",
       "min        277.551859\n",
       "25%       1624.842248\n",
       "50%       6124.371108\n",
       "75%      18008.835640\n",
       "max      49357.190170\n",
       "Name: gdpPercap, dtype: float64"
      ]
     },
     "execution_count": 9,
     "metadata": {},
     "output_type": "execute_result"
    }
   ],
   "source": [
    "gm_latest['gdpPercap'].describe()"
   ]
  },
  {
   "cell_type": "markdown",
   "metadata": {},
   "source": [
    "Across 142 countries the mean GDP was ~\\\\$11680, and the standard deviation was ~\\\\$12860! There was a lot of deviation in GDP across countries, but these summary statistics don't give us the whole picture. To get the whole picture, let's draw a picture! Or plot a figure, more accurately."
   ]
  },
  {
   "cell_type": "markdown",
   "metadata": {},
   "source": [
    "### Histograms\n",
    "\n",
    "Histograms plot a discretized distribution of a one-dimensional dataset across all the values it has taken. They visualize how many of the data points are in each of $b$ bins, each of which has a pre-defined range. \n",
    "\n",
    "To create a histogram plot in `matplotlib` we'll use `pyplot`, which is a collection of command style functions that make matplotlib work like MATLAB and save many lines of repeated code. By convention, `pyplot` is aliased to `plt`, which we've already done in the above import cell. \n",
    "\n",
    "Let's use `plt.hist()` to create a histogram of the per-capita GDP in 2007."
   ]
  },
  {
   "cell_type": "code",
   "execution_count": 10,
   "metadata": {},
   "outputs": [
    {
     "data": {
      "image/png": "[encoded data removed]",
      "text/plain": [
       "<Figure size 432x288 with 1 Axes>"
      ]
     },
     "metadata": {
      "needs_background": "light"
     },
     "output_type": "display_data"
    }
   ],
   "source": [
    "plt.hist(gm_latest['gdpPercap']);"
   ]
  },
  {
   "cell_type": "markdown",
   "metadata": {},
   "source": [
    "**Protip**: Use a semicolon (`;`) at the end of the last line in a Jupyter notebook cell to suppress the notebooks from printing the return value of the last line. This was done in the above cell. Try removing the `;` to see how the output changes.\n",
    "\n",
    "This histogram tells us that many of the countries had a low GDP, which was less than 5,000. There is also a second \"bump\" in the histogram around 30,000. This type of distribution is known as **bi-modal**, since there are two modes, or common values.\n",
    "\n",
    "To make this histogram more interpretable let's add a title and labels for the $x$ and $y$ axes. We'll pass strings to `plt.title()`, `plt.xlabel()`, and `plt.ylabel()` to do so."
   ]
  },
  {
   "cell_type": "code",
   "execution_count": 11,
   "metadata": {},
   "outputs": [
    {
     "data": {
      "image/png": "[encoded data removed]",
      "text/plain": [
       "<Figure size 432x288 with 1 Axes>"
      ]
     },
     "metadata": {
      "needs_background": "light"
     },
     "output_type": "display_data"
    }
   ],
   "source": [
    "plt.hist(gm_latest['gdpPercap'])\n",
    "plt.title('Distribution of Global Per-Capita GDP in 2007')\n",
    "plt.xlabel('Per-Capita GDP (International Dollars)')\n",
    "plt.ylabel('# of Countries');"
   ]
  },
  {
   "cell_type": "markdown",
   "metadata": {},
   "source": [
    "Each line in the histogram represents a bin. The height of the line represents the number of items (countries in this case) within the range of values spanned by the bin. In the last plots we used the default number of bins (10), now let's use more bins by specifying the `bin=30` parameter."
   ]
  },
  {
   "cell_type": "code",
   "execution_count": 12,
   "metadata": {},
   "outputs": [
    {
     "data": {
      "image/png": "[encoded data removed]",
      "text/plain": [
       "<Figure size 432x288 with 1 Axes>"
      ]
     },
     "metadata": {
      "needs_background": "light"
     },
     "output_type": "display_data"
    }
   ],
   "source": [
    "plt.hist(gm_latest['gdpPercap'], bins=30)\n",
    "plt.title('Distribution of Global Per-Capita GDP in 2007')\n",
    "plt.xlabel('Per-Capita GDP (International Dollars)')\n",
    "plt.ylabel('# of Countries');"
   ]
  },
  {
   "cell_type": "markdown",
   "metadata": {},
   "source": [
    "We can see this histogram doesn't look as \"smooth\" as the last one. There's no \"right\" way to display a histogram, but some bin counts definitely are more informative than others. For example, using only 3 bins we cannot see the bi-modal nature of the GDP distribution."
   ]
  },
  {
   "cell_type": "code",
   "execution_count": 13,
   "metadata": {},
   "outputs": [
    {
     "data": {
      "image/png": "[encoded data removed]",
      "text/plain": [
       "<Figure size 432x288 with 1 Axes>"
      ]
     },
     "metadata": {
      "needs_background": "light"
     },
     "output_type": "display_data"
    }
   ],
   "source": [
    "plt.hist(gm_latest['gdpPercap'], bins=3)\n",
    "plt.title('Distribution of Global Per-Capita GDP in 2007')\n",
    "plt.xlabel('Per-Capita GDP (International Dollars)')\n",
    "plt.ylabel('# of Countries');"
   ]
  },
  {
   "cell_type": "markdown",
   "metadata": {},
   "source": [
    "#### Multiple calls to `plt`\n",
    "\n",
    "As you can see, we can call functions in the `plt` module multiple times within a single cell and those functions will all work on, and modify, the current figure associated with the current cell. This is because `pyplot` (or `plt`) keeps an internal variable for the current figure which is unique to each cell `plt` is used in.\n",
    "\n",
    "**NOTE:** Unless specified in the help function, the order of these function calls doesn't matter. See that the cell below produces the same plot as the one above even though the calls to `plt` functions are in a different order."
   ]
  },
  {
   "cell_type": "code",
   "execution_count": 14,
   "metadata": {},
   "outputs": [
    {
     "data": {
      "image/png": "[encoded data removed]",
      "text/plain": [
       "<Figure size 432x288 with 1 Axes>"
      ]
     },
     "metadata": {
      "needs_background": "light"
     },
     "output_type": "display_data"
    }
   ],
   "source": [
    "plt.title('Distribution of Global Per-Capita GDP in 2007')\n",
    "plt.xlabel('Per-Capita GDP (International Dollars)')\n",
    "plt.hist(gm_latest['gdpPercap'], bins=3)\n",
    "plt.ylabel('# of Countries');"
   ]
  },
  {
   "cell_type": "markdown",
   "metadata": {},
   "source": [
    "The styling that you see in the plot above are the `matplotlib` defaults. For now, we'll continue to use those defaults as the first portion of this workshop is geared toward getting you familiar with the API-how to actually create the plots you're interested in. Then, we'll cover how to customize plot styles in a later section."
   ]
  },
  {
   "cell_type": "markdown",
   "metadata": {},
   "source": [
    "#### Pandas methods to make plots\n",
    "\n",
    "Also note that when you are working with Pandas DataFrames you will have access to DataFrame methods to produce a lot of the same types of plots!\n",
    "\n",
    "These methods' plots are still produced by Matplotlib 'under the hood'. The methods often require less code than the Matplotlib approach, but they typically also provide less extensive customization. So they impose a **trade-off between convenience and customizability**.\n",
    "\n",
    "In order to present you with a range of plotting options, we will present you with Pandas-equivalent code for a number of the plots we demonstrate below. \n",
    "\n",
    "Here is the first, using the `DataFrame.hist` method:"
   ]
  },
  {
   "cell_type": "code",
   "execution_count": null,
   "metadata": {},
   "outputs": [],
   "source": [
    "gm_latest.hist(column='gdpPercap', bins=3);"
   ]
  },
  {
   "cell_type": "markdown",
   "metadata": {},
   "source": [
    "According to the docs, we can also get rid of that grid, if we'd like, by feeding in the `grid=False` argument\n",
    "(because it defaults to `True`)."
   ]
  },
  {
   "cell_type": "code",
   "execution_count": null,
   "metadata": {},
   "outputs": [],
   "source": [
    "gm_latest.hist(column='gdpPercap', bins=3, grid=False);"
   ]
  },
  {
   "cell_type": "markdown",
   "metadata": {},
   "source": [
    "And we can also combine that call with some Matplotlib code, to get back our custom title and axis labels,\n",
    "giving us an identical plot to the one we produced above with *only* Matplotlib code."
   ]
  },
  {
   "cell_type": "code",
   "execution_count": null,
   "metadata": {},
   "outputs": [],
   "source": [
    "gm_latest.hist(column='gdpPercap', bins=3, grid=False)\n",
    "plt.title('Distribution of Global Per-Capita GDP in 2007')\n",
    "plt.xlabel('Per-Capita GDP (Millions of USD)')\n",
    "plt.ylabel('# of Countries');"
   ]
  },
  {
   "cell_type": "markdown",
   "metadata": {},
   "source": [
    "#### Challenge Questions\n",
    "\n",
    "1. Create a histogram of life expectancy in the year 2007 across all 142 countries in the gapminder dataset. Play with the `bins=` parameter to find the most informative bin number."
   ]
  },
  {
   "cell_type": "code",
   "execution_count": 23,
   "metadata": {},
   "outputs": [
    {
     "data": {
      "text/plain": [
       "Text(0, 0.5, '# of Countries')"
      ]
     },
     "execution_count": 23,
     "metadata": {},
     "output_type": "execute_result"
    },
    {
     "data": {
      "image/png": "[encoded data removed]",
      "text/plain": [
       "<Figure size 432x288 with 1 Axes>"
      ]
     },
     "metadata": {
      "needs_background": "light"
     },
     "output_type": "display_data"
    }
   ],
   "source": [
    "plt.hist(gm_latest['lifeExp'], color='skyblue', edgecolor='black', bins=15)\n",
    "plt.xlabel('Life Expectancy (Years)')\n",
    "plt.ylabel('# of Countries')\n"
   ]
  },
  {
   "cell_type": "markdown",
   "metadata": {},
   "source": [
    "2. What can you say about the distribution of life expectancy values in 2007?"
   ]
  },
  {
   "cell_type": "code",
   "execution_count": 16,
   "metadata": {},
   "outputs": [
    {
     "name": "stdout",
     "output_type": "stream",
     "text": [
      "Help on function hist in module matplotlib.pyplot:\n",
      "\n",
      "hist(x, bins=None, range=None, density=False, weights=None, cumulative=False, bottom=None, histtype='bar', align='mid', orientation='vertical', rwidth=None, log=False, color=None, label=None, stacked=False, *, data=None, **kwargs)\n",
      "    Plot a histogram.\n",
      "    \n",
      "    Compute and draw the histogram of *x*.  The return value is a tuple\n",
      "    (*n*, *bins*, *patches*) or ([*n0*, *n1*, ...], *bins*, [*patches0*,\n",
      "    *patches1*, ...]) if the input contains multiple data.  See the\n",
      "    documentation of the *weights* parameter to draw a histogram of\n",
      "    already-binned data.\n",
      "    \n",
      "    Multiple data can be provided via *x* as a list of datasets\n",
      "    of potentially different length ([*x0*, *x1*, ...]), or as\n",
      "    a 2D ndarray in which each column is a dataset.  Note that\n",
      "    the ndarray form is transposed relative to the list form.\n",
      "    \n",
      "    Masked arrays are not supported.\n",
      "    \n",
      "    The *bins*, *range*, *weights*, and *density* parameters behave as in\n",
      "    `numpy.histogram`.\n",
      "    \n",
      "    Parameters\n",
      "    ----------\n",
      "    x : (n,) array or sequence of (n,) arrays\n",
      "        Input values, this takes either a single array or a sequence of\n",
      "        arrays which are not required to be of the same length.\n",
      "    \n",
      "    bins : int or sequence or str, default: :rc:`hist.bins`\n",
      "        If *bins* is an integer, it defines the number of equal-width bins\n",
      "        in the range.\n",
      "    \n",
      "        If *bins* is a sequence, it defines the bin edges, including the\n",
      "        left edge of the first bin and the right edge of the last bin;\n",
      "        in this case, bins may be unequally spaced.  All but the last\n",
      "        (righthand-most) bin is half-open.  In other words, if *bins* is::\n",
      "    \n",
      "            [1, 2, 3, 4]\n",
      "    \n",
      "        then the first bin is ``[1, 2)`` (including 1, but excluding 2) and\n",
      "        the second ``[2, 3)``.  The last bin, however, is ``[3, 4]``, which\n",
      "        *includes* 4.\n",
      "    \n",
      "        If *bins* is a string, it is one of the binning strategies\n",
      "        supported by `numpy.histogram_bin_edges`: 'auto', 'fd', 'doane',\n",
      "        'scott', 'stone', 'rice', 'sturges', or 'sqrt'.\n",
      "    \n",
      "    range : tuple or None, default: None\n",
      "        The lower and upper range of the bins. Lower and upper outliers\n",
      "        are ignored. If not provided, *range* is ``(x.min(), x.max())``.\n",
      "        Range has no effect if *bins* is a sequence.\n",
      "    \n",
      "        If *bins* is a sequence or *range* is specified, autoscaling\n",
      "        is based on the specified bin range instead of the\n",
      "        range of x.\n",
      "    \n",
      "    density : bool, default: False\n",
      "        If ``True``, draw and return a probability density: each bin\n",
      "        will display the bin's raw count divided by the total number of\n",
      "        counts *and the bin width*\n",
      "        (``density = counts / (sum(counts) * np.diff(bins))``),\n",
      "        so that the area under the histogram integrates to 1\n",
      "        (``np.sum(density * np.diff(bins)) == 1``).\n",
      "    \n",
      "        If *stacked* is also ``True``, the sum of the histograms is\n",
      "        normalized to 1.\n",
      "    \n",
      "    weights : (n,) array-like or None, default: None\n",
      "        An array of weights, of the same shape as *x*.  Each value in\n",
      "        *x* only contributes its associated weight towards the bin count\n",
      "        (instead of 1).  If *density* is ``True``, the weights are\n",
      "        normalized, so that the integral of the density over the range\n",
      "        remains 1.\n",
      "    \n",
      "        This parameter can be used to draw a histogram of data that has\n",
      "        already been binned, e.g. using `numpy.histogram` (by treating each\n",
      "        bin as a single point with a weight equal to its count) ::\n",
      "    \n",
      "            counts, bins = np.histogram(data)\n",
      "            plt.hist(bins[:-1], bins, weights=counts)\n",
      "    \n",
      "        (or you may alternatively use `~.bar()`).\n",
      "    \n",
      "    cumulative : bool or -1, default: False\n",
      "        If ``True``, then a histogram is computed where each bin gives the\n",
      "        counts in that bin plus all bins for smaller values. The last bin\n",
      "        gives the total number of datapoints.\n",
      "    \n",
      "        If *density* is also ``True`` then the histogram is normalized such\n",
      "        that the last bin equals 1.\n",
      "    \n",
      "        If *cumulative* is a number less than 0 (e.g., -1), the direction\n",
      "        of accumulation is reversed.  In this case, if *density* is also\n",
      "        ``True``, then the histogram is normalized such that the first bin\n",
      "        equals 1.\n",
      "    \n",
      "    bottom : array-like, scalar, or None, default: None\n",
      "        Location of the bottom of each bin, ie. bins are drawn from\n",
      "        ``bottom`` to ``bottom + hist(x, bins)`` If a scalar, the bottom\n",
      "        of each bin is shifted by the same amount. If an array, each bin\n",
      "        is shifted independently and the length of bottom must match the\n",
      "        number of bins. If None, defaults to 0.\n",
      "    \n",
      "    histtype : {'bar', 'barstacked', 'step', 'stepfilled'}, default: 'bar'\n",
      "        The type of histogram to draw.\n",
      "    \n",
      "        - 'bar' is a traditional bar-type histogram.  If multiple data\n",
      "          are given the bars are arranged side by side.\n",
      "        - 'barstacked' is a bar-type histogram where multiple\n",
      "          data are stacked on top of each other.\n",
      "        - 'step' generates a lineplot that is by default unfilled.\n",
      "        - 'stepfilled' generates a lineplot that is by default filled.\n",
      "    \n",
      "    align : {'left', 'mid', 'right'}, default: 'mid'\n",
      "        The horizontal alignment of the histogram bars.\n",
      "    \n",
      "        - 'left': bars are centered on the left bin edges.\n",
      "        - 'mid': bars are centered between the bin edges.\n",
      "        - 'right': bars are centered on the right bin edges.\n",
      "    \n",
      "    orientation : {'vertical', 'horizontal'}, default: 'vertical'\n",
      "        If 'horizontal', `~.Axes.barh` will be used for bar-type histograms\n",
      "        and the *bottom* kwarg will be the left edges.\n",
      "    \n",
      "    rwidth : float or None, default: None\n",
      "        The relative width of the bars as a fraction of the bin width.  If\n",
      "        ``None``, automatically compute the width.\n",
      "    \n",
      "        Ignored if *histtype* is 'step' or 'stepfilled'.\n",
      "    \n",
      "    log : bool, default: False\n",
      "        If ``True``, the histogram axis will be set to a log scale.\n",
      "    \n",
      "    color : color or array-like of colors or None, default: None\n",
      "        Color or sequence of colors, one per dataset.  Default (``None``)\n",
      "        uses the standard line color sequence.\n",
      "    \n",
      "    label : str or None, default: None\n",
      "        String, or sequence of strings to match multiple datasets.  Bar\n",
      "        charts yield multiple patches per dataset, but only the first gets\n",
      "        the label, so that `~.Axes.legend` will work as expected.\n",
      "    \n",
      "    stacked : bool, default: False\n",
      "        If ``True``, multiple data are stacked on top of each other If\n",
      "        ``False`` multiple data are arranged side by side if histtype is\n",
      "        'bar' or on top of each other if histtype is 'step'\n",
      "    \n",
      "    Returns\n",
      "    -------\n",
      "    n : array or list of arrays\n",
      "        The values of the histogram bins. See *density* and *weights* for a\n",
      "        description of the possible semantics.  If input *x* is an array,\n",
      "        then this is an array of length *nbins*. If input is a sequence of\n",
      "        arrays ``[data1, data2, ...]``, then this is a list of arrays with\n",
      "        the values of the histograms for each of the arrays in the same\n",
      "        order.  The dtype of the array *n* (or of its element arrays) will\n",
      "        always be float even if no weighting or normalization is used.\n",
      "    \n",
      "    bins : array\n",
      "        The edges of the bins. Length nbins + 1 (nbins left edges and right\n",
      "        edge of last bin).  Always a single array even when multiple data\n",
      "        sets are passed in.\n",
      "    \n",
      "    patches : `.BarContainer` or list of a single `.Polygon` or list of such objects\n",
      "        Container of individual artists used to create the histogram\n",
      "        or list of such containers if there are multiple input datasets.\n",
      "    \n",
      "    Other Parameters\n",
      "    ----------------\n",
      "    **kwargs\n",
      "        `~matplotlib.patches.Patch` properties\n",
      "    \n",
      "    See Also\n",
      "    --------\n",
      "    hist2d : 2D histograms\n",
      "    \n",
      "    Notes\n",
      "    -----\n",
      "    For large numbers of bins (>1000), 'step' and 'stepfilled' can be\n",
      "    significantly faster than 'bar' and 'barstacked'.\n",
      "    \n",
      "    .. note::\n",
      "        In addition to the above described arguments, this function can take\n",
      "        a *data* keyword argument. If such a *data* argument is given,\n",
      "        the following arguments can also be string ``s``, which is\n",
      "        interpreted as ``data[s]`` (unless this raises an exception):\n",
      "        *x*, *weights*.\n",
      "    \n",
      "        Objects passed as **data** must support item access (``data[s]``) and\n",
      "        membership test (``s in data``).\n",
      "\n"
     ]
    }
   ],
   "source": []
  },
  {
   "cell_type": "markdown",
   "metadata": {},
   "source": [
    "### Bar Plots"
   ]
  },
  {
   "cell_type": "markdown",
   "metadata": {},
   "source": [
    "Next, it might be interesting to get a sense of how many countries per continent we have data for. Let's create a country `DataFrame` that includes only the unique combinations of country and continent by dropping all duplicate rows using `drop_duplicates()`"
   ]
  },
  {
   "cell_type": "code",
   "execution_count": 24,
   "metadata": {},
   "outputs": [],
   "source": [
    "countries = gm[['country', 'continent']]\n",
    "countries = countries.drop_duplicates()"
   ]
  },
  {
   "cell_type": "code",
   "execution_count": 25,
   "metadata": {},
   "outputs": [
    {
     "data": {
      "text/plain": [
       "(142, 2)"
      ]
     },
     "execution_count": 25,
     "metadata": {},
     "output_type": "execute_result"
    }
   ],
   "source": [
    "countries.shape"
   ]
  },
  {
   "cell_type": "markdown",
   "metadata": {},
   "source": [
    "To get the number of countries per continent we'll use the `.groupby()` method to group by `continent`, then count the unique countries in each continent. We'll use the `as_index=False` argument so that the continent name gets its own column, and is not used as the index. This will create a new `DataFrame` that we'll call `country_counts`."
   ]
  },
  {
   "cell_type": "code",
   "execution_count": 28,
   "metadata": {},
   "outputs": [
    {
     "data": {
      "text/html": [
       "<div>\n",
       "<style scoped>\n",
       "    .dataframe tbody tr th:only-of-type {\n",
       "        vertical-align: middle;\n",
       "    }\n",
       "\n",
       "    .dataframe tbody tr th {\n",
       "        vertical-align: top;\n",
       "    }\n",
       "\n",
       "    .dataframe thead th {\n",
       "        text-align: right;\n",
       "    }\n",
       "</style>\n",
       "<table border=\"1\" class=\"dataframe\">\n",
       "  <thead>\n",
       "    <tr style=\"text-align: right;\">\n",
       "      <th></th>\n",
       "      <th>continent</th>\n",
       "      <th>country</th>\n",
       "    </tr>\n",
       "  </thead>\n",
       "  <tbody>\n",
       "    <tr>\n",
       "      <th>0</th>\n",
       "      <td>Africa</td>\n",
       "      <td>52</td>\n",
       "    </tr>\n",
       "    <tr>\n",
       "      <th>1</th>\n",
       "      <td>Americas</td>\n",
       "      <td>25</td>\n",
       "    </tr>\n",
       "    <tr>\n",
       "      <th>2</th>\n",
       "      <td>Asia</td>\n",
       "      <td>33</td>\n",
       "    </tr>\n",
       "    <tr>\n",
       "      <th>3</th>\n",
       "      <td>Europe</td>\n",
       "      <td>30</td>\n",
       "    </tr>\n",
       "    <tr>\n",
       "      <th>4</th>\n",
       "      <td>Oceania</td>\n",
       "      <td>2</td>\n",
       "    </tr>\n",
       "  </tbody>\n",
       "</table>\n",
       "</div>"
      ],
      "text/plain": [
       "  continent  country\n",
       "0    Africa       52\n",
       "1  Americas       25\n",
       "2      Asia       33\n",
       "3    Europe       30\n",
       "4   Oceania        2"
      ]
     },
     "execution_count": 28,
     "metadata": {},
     "output_type": "execute_result"
    }
   ],
   "source": [
    "country_counts = countries.groupby('continent', as_index=False).agg('count')\n",
    "country_counts"
   ]
  },
  {
   "cell_type": "markdown",
   "metadata": {},
   "source": [
    "Let's rename the `country` column to be `n_countries` for number of countries."
   ]
  },
  {
   "cell_type": "code",
   "execution_count": 29,
   "metadata": {},
   "outputs": [
    {
     "data": {
      "text/html": [
       "<div>\n",
       "<style scoped>\n",
       "    .dataframe tbody tr th:only-of-type {\n",
       "        vertical-align: middle;\n",
       "    }\n",
       "\n",
       "    .dataframe tbody tr th {\n",
       "        vertical-align: top;\n",
       "    }\n",
       "\n",
       "    .dataframe thead th {\n",
       "        text-align: right;\n",
       "    }\n",
       "</style>\n",
       "<table border=\"1\" class=\"dataframe\">\n",
       "  <thead>\n",
       "    <tr style=\"text-align: right;\">\n",
       "      <th></th>\n",
       "      <th>continent</th>\n",
       "      <th>n_countries</th>\n",
       "    </tr>\n",
       "  </thead>\n",
       "  <tbody>\n",
       "    <tr>\n",
       "      <th>0</th>\n",
       "      <td>Africa</td>\n",
       "      <td>52</td>\n",
       "    </tr>\n",
       "    <tr>\n",
       "      <th>1</th>\n",
       "      <td>Americas</td>\n",
       "      <td>25</td>\n",
       "    </tr>\n",
       "    <tr>\n",
       "      <th>2</th>\n",
       "      <td>Asia</td>\n",
       "      <td>33</td>\n",
       "    </tr>\n",
       "    <tr>\n",
       "      <th>3</th>\n",
       "      <td>Europe</td>\n",
       "      <td>30</td>\n",
       "    </tr>\n",
       "    <tr>\n",
       "      <th>4</th>\n",
       "      <td>Oceania</td>\n",
       "      <td>2</td>\n",
       "    </tr>\n",
       "  </tbody>\n",
       "</table>\n",
       "</div>"
      ],
      "text/plain": [
       "  continent  n_countries\n",
       "0    Africa           52\n",
       "1  Americas           25\n",
       "2      Asia           33\n",
       "3    Europe           30\n",
       "4   Oceania            2"
      ]
     },
     "execution_count": 29,
     "metadata": {},
     "output_type": "execute_result"
    }
   ],
   "source": [
    "country_counts.columns = ['continent', 'n_countries']\n",
    "country_counts"
   ]
  },
  {
   "cell_type": "markdown",
   "metadata": {},
   "source": [
    "Let's use a **bar plot** to plot this data, which we saw in the theory section is an effective way to compare the magnitudes of a number of data points on the same scale. Bar plots look a lot like histograms, but differ in that they do not represent a distribution of data, rather a collection of data points. \n",
    "\n",
    "Making a bar plot in `matplotlib` is done conveniently using `plt.bar`. This takes two arguments, the first is the location on the $x$-axis that the bars should appear, and the second is the height of each bar on the $y$-axis, which in our case is equal to `n_countries`. Since we want the bars to appear equidistant from each other, we'll create a sequence of increasing numbers going from `0` to the number of bars we want plotted (# of continents, or `len(continents)` here) using the `range` function.  \n",
    "\n",
    "Let's also use `plt.xticks()` and the continent names to label the $x$-ticks, which are the text below each bar on the $x$-axis. The `plt.xticks()` function takes two arguments. The first is the *position* for the label and the second is the label itself. The arguments are container-like objects, such as `list`s or `numpy` arrays. "
   ]
  },
  {
   "cell_type": "code",
   "execution_count": 34,
   "metadata": {},
   "outputs": [
    {
     "data": {
      "text/plain": [
       "0      Africa\n",
       "1    Americas\n",
       "2        Asia\n",
       "3      Europe\n",
       "4     Oceania\n",
       "Name: continent, dtype: object"
      ]
     },
     "execution_count": 34,
     "metadata": {},
     "output_type": "execute_result"
    }
   ],
   "source": [
    "continents = country_counts['continent']\n",
    "continents"
   ]
  },
  {
   "cell_type": "code",
   "execution_count": 32,
   "metadata": {},
   "outputs": [
    {
     "name": "stdout",
     "output_type": "stream",
     "text": [
      "range(0, 5)\n"
     ]
    }
   ],
   "source": [
    "n_continents = len(country_counts)\n",
    "x = range(n_continents)\n",
    "print(x)"
   ]
  },
  {
   "cell_type": "code",
   "execution_count": null,
   "metadata": {},
   "outputs": [],
   "source": [
    "y = country_counts['n_countries']\n",
    "y"
   ]
  },
  {
   "cell_type": "code",
   "execution_count": 31,
   "metadata": {},
   "outputs": [
    {
     "data": {
      "text/plain": [
       "Text(0, 0.5, 'Number of Countries')"
      ]
     },
     "execution_count": 31,
     "metadata": {},
     "output_type": "execute_result"
    },
    {
     "data": {
      "image/png": "[encoded data removed]",
      "text/plain": [
       "<Figure size 432x288 with 1 Axes>"
      ]
     },
     "metadata": {
      "needs_background": "light"
     },
     "output_type": "display_data"
    }
   ],
   "source": [
    "#plt.bar(x, y)\n",
    "\n",
    "plt.bar(country_counts['continent'], country_counts['n_countries'])\n",
    "plt.ylabel('Number of Countries')\n",
    "#plt.title('Number of Countries per Continent')\n",
    "#plt.xticks(x, continents);"
   ]
  },
  {
   "cell_type": "markdown",
   "metadata": {},
   "source": [
    "#### Pandas equivalent\n",
    "\n",
    "And here are three ways to use the `DataFrame.plot` Pandas method to get a nearly identical plot:"
   ]
  },
  {
   "cell_type": "code",
   "execution_count": null,
   "metadata": {},
   "outputs": [],
   "source": [
    "# Option 1\n",
    "y.plot(kind='bar', title='Number of Countries per Continent')\n",
    "plt.xticks(x, continents);"
   ]
  },
  {
   "cell_type": "code",
   "execution_count": null,
   "metadata": {},
   "outputs": [],
   "source": [
    "# Option 2\n",
    "ax = y.plot(kind='bar',\n",
    "            title='Number of Countries per Continent',\n",
    "            xticks=x)\n",
    "ax.set_xticklabels(continents);"
   ]
  },
  {
   "cell_type": "code",
   "execution_count": null,
   "metadata": {
    "scrolled": true
   },
   "outputs": [],
   "source": [
    "# Option 3\n",
    "country_counts.plot(kind='bar',\n",
    "                    x='continent',\n",
    "                    y='n_countries', \n",
    "                    title='Number of Countries per Continent',\n",
    "                    legend=False);"
   ]
  },
  {
   "cell_type": "markdown",
   "metadata": {},
   "source": [
    "***What happened in that second option?***\n",
    "\n",
    "The `DataFrame.plot` methods returns a Matplotlib Axes object\n",
    "(a handle for the axes we plotted on), which we can save to some variable (`ax`), and then call additional\n",
    "methods on to tweak the axes' characteristics!\n",
    "\n",
    "In fact, we would actually see that if we called `DataFrame.plot` without assigning its output to a variable, or silencing its output with the semicolon:"
   ]
  },
  {
   "cell_type": "code",
   "execution_count": null,
   "metadata": {},
   "outputs": [],
   "source": [
    "y.plot(kind='bar')"
   ]
  },
  {
   "cell_type": "markdown",
   "metadata": {},
   "source": [
    "At this point you may be thinking, \"why so many different approaches to the same thing?!\". It might be dizzying. \n",
    "\n",
    "But there is no need to remember the many different ways to do one thing! Just notice how tightly integrated into Pandas Matplotlib is, so that in the future you can search and use whichever approach works for you."
   ]
  },
  {
   "cell_type": "markdown",
   "metadata": {},
   "source": [
    "#### Challenge Questions"
   ]
  },
  {
   "cell_type": "code",
   "execution_count": null,
   "metadata": {},
   "outputs": [],
   "source": [
    "# Get the countries in Oceania in 2007\n",
    "gm_latest_oceania = gm_latest[gm_latest['continent'] == 'Oceania']\n",
    "gm_latest_oceania"
   ]
  },
  {
   "cell_type": "markdown",
   "metadata": {},
   "source": [
    "3. Create a bar plot showing the per-capita GDP for all the countries in Oceania during 2007."
   ]
  },
  {
   "cell_type": "code",
   "execution_count": null,
   "metadata": {},
   "outputs": [],
   "source": []
  },
  {
   "cell_type": "markdown",
   "metadata": {},
   "source": [
    "4. **\\[OPTIONAL\\]**. The above bar plot shows the counts of countries in each continent. We might be interested in the proportion of countries that exist in each of the 5 continents. Do a web search for `plt.pie` and figure out how to make a pie plot that displays proportions of all countries contained in each of the 5 continents."
   ]
  },
  {
   "cell_type": "code",
   "execution_count": null,
   "metadata": {},
   "outputs": [],
   "source": []
  },
  {
   "cell_type": "markdown",
   "metadata": {},
   "source": [
    "### Boxplots\n",
    "\n",
    "Now that we know we've seen how GDP was distributed during 2007, and how many countries are in each continent, we might want to know how GDP is distributed within each continent. While we could plot 5 histograms, we can also take advantage of a useful type of plot for just this purpose, a **boxplot**.\n",
    "\n",
    "`plt.boxplot` creates just that, and can take a list of arrays, with each array representing a distribution to plot. Since the number of countries in each continent is different, we will create an array for each continent that contains the GDP values of all countries in each continent."
   ]
  },
  {
   "cell_type": "code",
   "execution_count": 49,
   "metadata": {},
   "outputs": [],
   "source": [
    "continent_gdp_latest = []\n",
    "for c in continents:\n",
    "    gm_latest_cur_cont = gm_latest[gm_latest['continent'] == c]\n",
    "    cur_gdp_vals = gm_latest_cur_cont['gdpPercap'].values\n",
    "    continent_gdp_latest.append(cur_gdp_vals)"
   ]
  },
  {
   "cell_type": "code",
   "execution_count": 50,
   "metadata": {},
   "outputs": [
    {
     "data": {
      "text/plain": [
       "[array([ 6223.367465 ,  4797.231267 ,  1441.284873 , 12569.85177  ,\n",
       "         1217.032994 ,   430.0706916,  2042.09524  ,   706.016537 ,\n",
       "         1704.063724 ,   986.1478792,   277.5518587,  3632.557798 ,\n",
       "         1544.750112 ,  2082.481567 ,  5581.180998 , 12154.08975  ,\n",
       "          641.3695236,   690.8055759, 13206.48452  ,   752.7497265,\n",
       "         1327.60891  ,   942.6542111,   579.231743 ,  1463.249282 ,\n",
       "         1569.331442 ,   414.5073415, 12057.49928  ,  1044.770126 ,\n",
       "          759.3499101,  1042.581557 ,  1803.151496 , 10956.99112  ,\n",
       "         3820.17523  ,   823.6856205,  4811.060429 ,   619.6768924,\n",
       "         2013.977305 ,  7670.122558 ,   863.0884639,  1598.435089 ,\n",
       "         1712.472136 ,   862.5407561,   926.1410683,  9269.657808 ,\n",
       "         2602.394995 ,  4513.480643 ,  1107.482182 ,   882.9699438,\n",
       "         7092.923025 ,  1056.380121 ,  1271.211593 ,   469.7092981]),\n",
       " array([12779.37964 ,  3822.137084,  9065.800825, 36319.23501 ,\n",
       "        13171.63885 ,  7006.580419,  9645.06142 ,  8948.102923,\n",
       "         6025.374752,  6873.262326,  5728.353514,  5186.050003,\n",
       "         1201.637154,  3548.330846,  7320.880262, 11977.57496 ,\n",
       "         2749.320965,  9809.185636,  4172.838464,  7408.905561,\n",
       "        19328.70901 , 18008.50924 , 42951.65309 , 10611.46299 ,\n",
       "        11415.80569 ]),\n",
       " array([  974.5803384, 29796.04834  ,  1391.253792 ,  1713.778686 ,\n",
       "         4959.114854 , 39724.97867  ,  2452.210407 ,  3540.651564 ,\n",
       "        11605.71449  ,  4471.061906 , 25523.2771   , 31656.06806  ,\n",
       "         4519.461171 ,  1593.06548  , 23348.13973  , 47306.98978  ,\n",
       "        10461.05868  , 12451.6558   ,  3095.772271 ,   944.       ,\n",
       "         1091.359778 , 22316.19287  ,  2605.94758  ,  3190.481016 ,\n",
       "        21654.83194  , 47143.17964  ,  3970.095407 ,  4184.548089 ,\n",
       "        28718.27684  ,  7458.396327 ,  2441.576404 ,  3025.349798 ,\n",
       "         2280.769906 ]),\n",
       " array([ 5937.029526, 36126.4927  , 33692.60508 ,  7446.298803,\n",
       "        10680.79282 , 14619.22272 , 22833.30851 , 35278.41874 ,\n",
       "        33207.0844  , 30470.0167  , 32170.37442 , 27538.41188 ,\n",
       "        18008.94444 , 36180.78919 , 40675.99635 , 28569.7197  ,\n",
       "         9253.896111, 36797.93332 , 49357.19017 , 15389.92468 ,\n",
       "        20509.64777 , 10808.47561 ,  9786.534714, 18678.31435 ,\n",
       "        25768.25759 , 28821.0637  , 33859.74835 , 37506.41907 ,\n",
       "         8458.276384, 33203.26128 ]),\n",
       " array([34435.36744, 25185.00911])]"
      ]
     },
     "execution_count": 50,
     "metadata": {},
     "output_type": "execute_result"
    }
   ],
   "source": [
    "continent_gdp_latest"
   ]
  },
  {
   "cell_type": "markdown",
   "metadata": {},
   "source": [
    "In a boxplot a box is created for each array where the top and bottom lines of the box indicate the third and first quartiles, respectively. An orange bar in the middle indicates the median. \"Whiskers\" show the extent of the extreme values (in this case 1.5 times the interquartile range, which is the third minus the first quartile). \"Fliers\" or \"outliers\" are shown in black circles and are drawn for all values that are outside of the whiskers, or interquartile value here.\n",
    "\n",
    "Now we'll use this list of arrays to make a boxplot. We'll also update the xticks, title, axes labels."
   ]
  },
  {
   "cell_type": "code",
   "execution_count": 52,
   "metadata": {},
   "outputs": [
    {
     "data": {
      "image/png": "[encoded data removed]",
      "text/plain": [
       "<Figure size 432x288 with 1 Axes>"
      ]
     },
     "metadata": {
      "needs_background": "light"
     },
     "output_type": "display_data"
    }
   ],
   "source": [
    "plt.boxplot(continent_gdp_latest)\n",
    "plt.title('Per-Capita GDP Distributions Per Continent')\n",
    "plt.xlabel('Continents')\n",
    "plt.ylabel('Per-Capita GDP (International Dollars)')\n",
    "plt.xticks(range(1, len(continents) + 1), continents);\n"
   ]
  },
  {
   "cell_type": "markdown",
   "metadata": {},
   "source": [
    "That's a useful figure, but there's a lot going on in such a small plot. Let's use `plt.figure(figsize=)`. to make the plot bigger. `figsize` takes a tuple of width and height, in inches. (Note that figure sizes change with changes to DPI.)"
   ]
  },
  {
   "cell_type": "code",
   "execution_count": 53,
   "metadata": {},
   "outputs": [
    {
     "data": {
      "image/png": "[encoded data removed]",
      "text/plain": [
       "<Figure size 864x576 with 1 Axes>"
      ]
     },
     "metadata": {
      "needs_background": "light"
     },
     "output_type": "display_data"
    }
   ],
   "source": [
    "plt.figure(figsize=(12, 8))\n",
    "plt.boxplot(continent_gdp_latest)\n",
    "plt.title('Per-Capita GDP Distributions Per Continent')\n",
    "plt.xlabel('Continents')\n",
    "plt.ylabel('Per-Capita GDP (International Dollars)')\n",
    "plt.xticks(range(1, len(continents) + 1), continents);"
   ]
  },
  {
   "cell_type": "markdown",
   "metadata": {},
   "source": [
    "That's better!"
   ]
  },
  {
   "cell_type": "markdown",
   "metadata": {},
   "source": [
    "#### Pandas equvialent\n",
    "\n",
    "Pandas also has a `DataFrame.boxplot` method!"
   ]
  },
  {
   "cell_type": "code",
   "execution_count": null,
   "metadata": {},
   "outputs": [],
   "source": [
    "gm_latest.boxplot(column='gdpPercap', by='continent', grid=False, figsize=(10, 8));"
   ]
  },
  {
   "cell_type": "markdown",
   "metadata": {},
   "source": [
    "#### Challenge Questions\n",
    "\n",
    "5. Knowing how to interpret your plots is almost as important as knowing how to make them! Looking at the above box plot of per-capita GDP for each continent, what information do you take away from it? Where do you think the U.S.A is represented in this plot? And how could you confirm that?"
   ]
  },
  {
   "cell_type": "code",
   "execution_count": null,
   "metadata": {},
   "outputs": [],
   "source": []
  },
  {
   "cell_type": "markdown",
   "metadata": {},
   "source": [
    "### Line Plots"
   ]
  },
  {
   "cell_type": "markdown",
   "metadata": {},
   "source": [
    "Now let's say that we're interested in visualizing a single country's per-capita GDP, and seeing how it has changed over time. Let's look at Portugal's GDP per capita over time. To make things easier, we'll create a second `DataFrame` containing just data from Portugal."
   ]
  },
  {
   "cell_type": "code",
   "execution_count": 54,
   "metadata": {},
   "outputs": [],
   "source": [
    "portugal = gm[gm['country'] == 'Portugal']"
   ]
  },
  {
   "cell_type": "code",
   "execution_count": 55,
   "metadata": {},
   "outputs": [
    {
     "data": {
      "text/html": [
       "<div>\n",
       "<style scoped>\n",
       "    .dataframe tbody tr th:only-of-type {\n",
       "        vertical-align: middle;\n",
       "    }\n",
       "\n",
       "    .dataframe tbody tr th {\n",
       "        vertical-align: top;\n",
       "    }\n",
       "\n",
       "    .dataframe thead th {\n",
       "        text-align: right;\n",
       "    }\n",
       "</style>\n",
       "<table border=\"1\" class=\"dataframe\">\n",
       "  <thead>\n",
       "    <tr style=\"text-align: right;\">\n",
       "      <th></th>\n",
       "      <th>country</th>\n",
       "      <th>continent</th>\n",
       "      <th>year</th>\n",
       "      <th>lifeExp</th>\n",
       "      <th>pop</th>\n",
       "      <th>gdpPercap</th>\n",
       "    </tr>\n",
       "  </thead>\n",
       "  <tbody>\n",
       "    <tr>\n",
       "      <th>1236</th>\n",
       "      <td>Portugal</td>\n",
       "      <td>Europe</td>\n",
       "      <td>1952</td>\n",
       "      <td>59.82</td>\n",
       "      <td>8526050.0</td>\n",
       "      <td>3068.319867</td>\n",
       "    </tr>\n",
       "    <tr>\n",
       "      <th>1237</th>\n",
       "      <td>Portugal</td>\n",
       "      <td>Europe</td>\n",
       "      <td>1957</td>\n",
       "      <td>61.51</td>\n",
       "      <td>8817650.0</td>\n",
       "      <td>3774.571743</td>\n",
       "    </tr>\n",
       "    <tr>\n",
       "      <th>1238</th>\n",
       "      <td>Portugal</td>\n",
       "      <td>Europe</td>\n",
       "      <td>1962</td>\n",
       "      <td>64.39</td>\n",
       "      <td>9019800.0</td>\n",
       "      <td>4727.954889</td>\n",
       "    </tr>\n",
       "    <tr>\n",
       "      <th>1239</th>\n",
       "      <td>Portugal</td>\n",
       "      <td>Europe</td>\n",
       "      <td>1967</td>\n",
       "      <td>66.60</td>\n",
       "      <td>9103000.0</td>\n",
       "      <td>6361.517993</td>\n",
       "    </tr>\n",
       "    <tr>\n",
       "      <th>1240</th>\n",
       "      <td>Portugal</td>\n",
       "      <td>Europe</td>\n",
       "      <td>1972</td>\n",
       "      <td>69.26</td>\n",
       "      <td>8970450.0</td>\n",
       "      <td>9022.247417</td>\n",
       "    </tr>\n",
       "  </tbody>\n",
       "</table>\n",
       "</div>"
      ],
      "text/plain": [
       "       country continent  year  lifeExp        pop    gdpPercap\n",
       "1236  Portugal    Europe  1952    59.82  8526050.0  3068.319867\n",
       "1237  Portugal    Europe  1957    61.51  8817650.0  3774.571743\n",
       "1238  Portugal    Europe  1962    64.39  9019800.0  4727.954889\n",
       "1239  Portugal    Europe  1967    66.60  9103000.0  6361.517993\n",
       "1240  Portugal    Europe  1972    69.26  8970450.0  9022.247417"
      ]
     },
     "execution_count": 55,
     "metadata": {},
     "output_type": "execute_result"
    }
   ],
   "source": [
    "portugal.head()"
   ]
  },
  {
   "cell_type": "markdown",
   "metadata": {},
   "source": [
    "While there are theoretically many ways we could plot these data, let's use what we learned about human perception from Cleveland and McGill to guide our choice of plots. We saw that \"position along a common scale\" was the most accurate perceptual task, and a **Line Plot** uses exactly that. In fact, line plots are one of the most commonly used plots for visualizing **time-series data** (data that changes as a function of time) because the data points are connected (unlike bar plots) allowing for easy perception of the trend across time. \n",
    "\n",
    "To make the line plot, we simply call the `plt.plot()` function. The first argument should contain a list-like sequence of $x$-axis values, and the second argument should contain a list-like sequence of the $y$-axis values. We'll use the year as the $x$-axis and per-capita GDP as the $y$-axis.\n",
    "\n",
    "**Note** that $x$ and $y$ must have the same dimensions-that is, be of the same length."
   ]
  },
  {
   "cell_type": "code",
   "execution_count": 56,
   "metadata": {},
   "outputs": [
    {
     "data": {
      "image/png": "[encoded data removed]",
      "text/plain": [
       "<Figure size 432x288 with 1 Axes>"
      ]
     },
     "metadata": {
      "needs_background": "light"
     },
     "output_type": "display_data"
    }
   ],
   "source": [
    "plt.plot(portugal['year'], portugal['gdpPercap'])\n",
    "plt.title('Per-capita GDP of Portugal')\n",
    "plt.xlabel('Time (Years)')\n",
    "plt.ylabel('Per-capita GPD (International Dollars)');"
   ]
  },
  {
   "cell_type": "markdown",
   "metadata": {},
   "source": [
    "This plot clearly shows that Portugal's per-capita GDP has been increasing over time. Cool!\n",
    "\n",
    "What if we want to compare how Portugal's GDP changed relative to its neighbor's Spain? To do that we can get a second `DataFrame` for Spain and plot them together on the same plot. We'll also make the plot wide and short to better see time."
   ]
  },
  {
   "cell_type": "code",
   "execution_count": 58,
   "metadata": {},
   "outputs": [],
   "source": [
    "spain = gm[gm['country'] == 'Spain']"
   ]
  },
  {
   "cell_type": "code",
   "execution_count": 59,
   "metadata": {},
   "outputs": [
    {
     "data": {
      "image/png": "[encoded data removed]",
      "text/plain": [
       "<Figure size 864x360 with 1 Axes>"
      ]
     },
     "metadata": {
      "needs_background": "light"
     },
     "output_type": "display_data"
    }
   ],
   "source": [
    "plt.figure(figsize=(12, 5))\n",
    "plt.plot(spain['year'], spain['gdpPercap'])\n",
    "plt.plot(portugal['year'], portugal['gdpPercap'])\n",
    "plt.title('Per-capita GDP of Portugal & Spain')\n",
    "plt.xlabel('Time (Years)')\n",
    "plt.ylabel('Per-capita GPD (International Dollars)');"
   ]
  },
  {
   "cell_type": "markdown",
   "metadata": {},
   "source": [
    "Ok, that's cool, but which line represents which country? To determine that we need a legend. `matplotlib` makes it easy to create a legend. First, we need to add the `label=<country_name>` parameter to the `plt.plot()` functions, then call `plt.legend()`. Let's see it:"
   ]
  },
  {
   "cell_type": "code",
   "execution_count": 60,
   "metadata": {},
   "outputs": [
    {
     "data": {
      "image/png": "[encoded data removed]",
      "text/plain": [
       "<Figure size 864x360 with 1 Axes>"
      ]
     },
     "metadata": {
      "needs_background": "light"
     },
     "output_type": "display_data"
    }
   ],
   "source": [
    "plt.figure(figsize=(12,5))\n",
    "plt.plot(spain['year'], spain['gdpPercap'], label='Spain')\n",
    "plt.plot(portugal['year'], portugal['gdpPercap'], label='Portugal')\n",
    "plt.title('Per-capita GDP of Portugal & Spain')\n",
    "plt.xlabel('Time (Years)')\n",
    "plt.ylabel('Per-capita GPD (International Dollars)')\n",
    "plt.legend();"
   ]
  },
  {
   "cell_type": "markdown",
   "metadata": {},
   "source": [
    "Much better! Now we can see that Spain's GDP has been consistently greater than Portugal's from 1950 until 2007."
   ]
  },
  {
   "cell_type": "markdown",
   "metadata": {},
   "source": [
    "#### Pandas equivalent\n",
    "\n",
    "Remember `DataFrame.plot`'s \"kind\" argument? Well it turns out that we can use that argument to create a variety of plot types!"
   ]
  },
  {
   "cell_type": "code",
   "execution_count": null,
   "metadata": {},
   "outputs": [],
   "source": [
    "help(gm.plot)"
   ]
  },
  {
   "cell_type": "markdown",
   "metadata": {},
   "source": [
    "Here's its line plot:"
   ]
  },
  {
   "cell_type": "code",
   "execution_count": null,
   "metadata": {},
   "outputs": [],
   "source": [
    "gm[gm.country.isin(['Spain', 'Portugal'])].pivot(index='year', \n",
    "                                                 values='lifeExp', \n",
    "                                                 columns='country').plot(figsize=(10, 8));"
   ]
  },
  {
   "cell_type": "markdown",
   "metadata": {},
   "source": [
    "#### Challenge Questions\n",
    "\n",
    "6. Create another line plot showing the life expectancy for Spain and Portugal across all the years in the dataset similar to the one above, but try to add some customizations (e.g., changing the font sizes, different line colors, etc.). You can use the `help()` function to see what kind of customizations are available."
   ]
  },
  {
   "cell_type": "code",
   "execution_count": null,
   "metadata": {},
   "outputs": [],
   "source": []
  },
  {
   "cell_type": "markdown",
   "metadata": {},
   "source": [
    "7. Does Spain or Portugal have a higher life expectancy across all the years? How does this relate to per-capita GDP? How might we look for a relationship?"
   ]
  },
  {
   "cell_type": "code",
   "execution_count": null,
   "metadata": {},
   "outputs": [],
   "source": []
  },
  {
   "cell_type": "markdown",
   "metadata": {},
   "source": [
    "### Scatter Plots"
   ]
  },
  {
   "cell_type": "markdown",
   "metadata": {},
   "source": [
    "Next, let's imagine that we're interested in looking for a relationship between two variables, where both variables can take the same value multiple times, unlike time-series data where the time variable is constantly increasing. **Scatter plots** are a powerful way to visualize the joint distribution of your data points across two variables. \n",
    "\n",
    "To illustrate this we'll use `plt.scatter` to visualize the relationship between per capita GDP (`gdpPercap` on the $x$-axis) and life expectancy (`lifeExp`on the $y$-axis) across all countries and all years. Specifying the `marker='.'` argument tells the plot to use small circles to indicate each data point. There are many other marker styles, see [here](https://matplotlib.org/stable/api/markers_api.html) for more."
   ]
  },
  {
   "cell_type": "code",
   "execution_count": null,
   "metadata": {},
   "outputs": [],
   "source": [
    "plt.scatter(gm['gdpPercap'], gm['lifeExp'], marker='.')\n",
    "plt.xlabel('Per-Capita GDP (International Dollars)')\n",
    "plt.ylabel('Life Expectancy (years)');"
   ]
  },
  {
   "cell_type": "markdown",
   "metadata": {},
   "source": [
    "#### Pandas equivalent"
   ]
  },
  {
   "cell_type": "code",
   "execution_count": null,
   "metadata": {},
   "outputs": [],
   "source": [
    "gm.plot(x='gdpPercap', y='lifeExp', kind='scatter')\n",
    "plt.xlabel('Per-Capita GDP (International Dollars)')\n",
    "plt.ylabel('Life Expectancy (years)');"
   ]
  },
  {
   "cell_type": "markdown",
   "metadata": {},
   "source": [
    "Like with `plt.plot()`, the first argument in `plt.scatter()` corresponds to the $x$-axis and the second to the $y$-axis."
   ]
  },
  {
   "cell_type": "markdown",
   "metadata": {},
   "source": [
    "#### Transformations\n",
    "\n",
    "The above scatter plot has some really large GDP values out to the right of the plot. When dealing with data that have large outliers like this, plotting a transformation of the data can make it more interpretable. A standard transformation is to apply the `log` function, so let's try that here.\n",
    "\n",
    "**NOTE** Let's not forget to change the x-axis label to indicate the new units being displayed! "
   ]
  },
  {
   "cell_type": "code",
   "execution_count": null,
   "metadata": {},
   "outputs": [],
   "source": [
    "plt.scatter(np.log10(gm['gdpPercap']), gm['lifeExp'], marker='.')\n",
    "plt.xlabel('Log Per-Capita GDP (International Dollars)')\n",
    "plt.ylabel('Life Expectancy (years)');"
   ]
  },
  {
   "cell_type": "markdown",
   "metadata": {},
   "source": [
    "That looks much better. We can now see there is somewhat of a linear relationship between the log of GDP and life expectancy. Interesting!"
   ]
  },
  {
   "cell_type": "markdown",
   "metadata": {},
   "source": [
    "#### Transparency\n",
    "\n",
    "This plot looks good, but could be better, especially since there are so many points and they overlap. To fix that we can change the transparency, or opacity, of the face and edges of the markers using the `alpha` parameter. This is a value from `0`-`1`, where `0` is completely transparent (e.g. it's not displayed) to `1` being completely opaque (which is the default seen in the previous plot).\n",
    "\n",
    "And while we're at it we'll change the fill color with the `facecolor` parameter, and the border color of each marker with the `edgecolor` parameter using one of:\n",
    "\n",
    "* single letters representing built-in colors (e.g., `b` for blue)\n",
    "* html hex strings\n",
    "* html color names\n",
    "* RGB tuples (with each element between 0 and 1)\n",
    "* string encoded floating point values between 0 and 1 (for gray shades)\n",
    "\n",
    "For *no* color, use `'None'`. For more information on colors in `Matplotlib` see [the documentation](https://matplotlib.org/stable/api/colors_api.html).\n",
    "\n",
    "A great place to find information on color palettes is [ColorBrewer](http://colorbrewer2.org/). Matt Davis has created a great Python package called [Palettable](https://jiffyclub.github.io/palettable/) that gives you access to the ColorBrewer, Cubehelix, Tableau, and Wes Anderson palettes."
   ]
  },
  {
   "cell_type": "code",
   "execution_count": null,
   "metadata": {},
   "outputs": [],
   "source": [
    "plt.scatter(np.log10(gm['gdpPercap']), \n",
    "            gm['lifeExp'], \n",
    "            marker='o',\n",
    "            alpha=0.25,\n",
    "            facecolor='SteelBlue',\n",
    "            edgecolor='None')\n",
    "plt.xlabel('Log Per-Capita GDP (International Dollars)')\n",
    "plt.ylabel('Life Expectancy (years)');"
   ]
  },
  {
   "cell_type": "markdown",
   "metadata": {},
   "source": [
    "Now that we've seen that there exists a relationship between GDP and life expectancy at the global scale and across the last 50 years, let's see if we can use similar scatter plots to break that relationship down as a function of both time (year) and location (continent). \n",
    "\n",
    "To do that we'll introduce two new techniques, the use of color and `subplots`."
   ]
  },
  {
   "cell_type": "markdown",
   "metadata": {},
   "source": [
    "#### Color"
   ]
  },
  {
   "cell_type": "markdown",
   "metadata": {},
   "source": [
    "Although color was the worst of the 6 perceptual tasks found by Cleveland and McGill it can still be a useful way to add even more information to the figure. \n",
    "\n",
    "Within a scatter plot, each data point may be assigned a different color depending on it's value in a third variable. To do so, we provide two additional keyword arguments to the `plt.scatter` method. \n",
    "\n",
    "The first is `c=<third_color_variable>`, where `<third_color_variable>` is a list-like sequence of values that is the same length as the data being plotted. The numbers will be normalized from 0-1, so any numbers will do. The second is `cmap=<colormap_name>`, where `<colormap_name>` is the name of `matplotlib` colormap, see [here](https://matplotlib.org/stable/tutorials/colors/colormaps.html) for possibilities.\n",
    "\n",
    "We'll make the same exact scatter plot as we just did, but add color to represent the year the data comes from. We'll use the `hot` colormap which goes from black->red->orange->yellow->white."
   ]
  },
  {
   "cell_type": "code",
   "execution_count": null,
   "metadata": {},
   "outputs": [],
   "source": [
    "plt.scatter(np.log10(gm['gdpPercap']), gm['lifeExp'], marker='.', c=gm['year'], cmap='hot')\n",
    "plt.xlabel('Log Per-Capita GDP (International Dollars)')\n",
    "plt.ylabel('Life Expectancy (Years)');"
   ]
  },
  {
   "cell_type": "markdown",
   "metadata": {},
   "source": [
    "While we can see there is some sort of trend dependent on color, we don't know what the color values mean. \n",
    "\n",
    "We can use `plt.colorbar()` to add a colorbar which will let us interpret the colors. By adding `.set_label()` to it we can set a textual label describing what the values in the colorbar represent.\n",
    "\n",
    "We'll also increase the figure size, and the font size used in the title, xlabel and ylabel using the `fontsize=16` parameter. We'll also use a form of LaTeX called MathJax to write a subscript 10 underneath the word Log, like this: $\\log_{10}$."
   ]
  },
  {
   "cell_type": "code",
   "execution_count": null,
   "metadata": {},
   "outputs": [],
   "source": [
    "plt.figure(figsize=(10, 8))\n",
    "plt.scatter(np.log10(gm['gdpPercap']), gm['lifeExp'], marker='.', c=gm['year'], cmap='hot')\n",
    "plt.xlabel('$Log_{10}$ Per-Capita GDP (International Dollars)', fontsize=16)\n",
    "plt.ylabel('Life Expectancy (Years)', fontsize=16)\n",
    "plt.colorbar().set_label('Year', fontsize=16);"
   ]
  },
  {
   "cell_type": "markdown",
   "metadata": {},
   "source": [
    "Ok, now we can see that as time has increased from black in 1950 to yellow in 2000 average life expectancy has also increased. Nice! \n",
    "\n",
    "\n",
    "Now let's use `subplots` to break this down even further and see if this trend holds across all continents."
   ]
  },
  {
   "cell_type": "markdown",
   "metadata": {},
   "source": [
    "#### `plt.subplot`\n",
    "\n",
    "Subplots allow you to draw multiple plots within a single figure. To do so, you use `plt.subplot(<num_rows>, <num_cols>, <index>)` where the number of rows and columns you want in the figure are specified as the first two parameters, respectively. The `<index>` tells subplot which subplot subsequent calls to `plt` will draw in. It starts at `1` for the top left subplot, and increases across rows, and then down columns. \n",
    "\n",
    "**NOTE** `plt.subplot()` uses a 1-based index (not 0-based like Python) to emulate the behavior of the Matlab version of this function. This can cause confusion!!\n",
    "\n",
    "Let's look at a simple example plotting Spain and Portugal's GDP on separate plots next to each other in the same row."
   ]
  },
  {
   "cell_type": "code",
   "execution_count": null,
   "metadata": {},
   "outputs": [],
   "source": [
    "plt.figure(figsize=(15, 5))\n",
    "plt.subplot(1, 2, 1)\n",
    "plt.plot(spain['year'], spain['gdpPercap'], label='Spain', color='blue')\n",
    "plt.title('Spain')\n",
    "plt.xlabel('Time (Years)')\n",
    "plt.ylabel('Per-capita GPD (International Dollars)')\n",
    "plt.legend();\n",
    "\n",
    "plt.subplot(1, 2, 2)\n",
    "plt.plot(portugal['year'], portugal['gdpPercap'], label='Portugal', color='red')\n",
    "plt.title('Portugal')\n",
    "plt.xlabel('Time (Years)')\n",
    "plt.ylabel('Per-capita GPD (International Dollars)')\n",
    "plt.legend();"
   ]
  },
  {
   "cell_type": "markdown",
   "metadata": {},
   "source": [
    "That looks pretty good, but if a careful observer would notice that these two plots are not on the same y-axis scales, and so cannot be easily compared at a glance. That is because matplotlib will automatically determine the min and max values for the y-axis based on the data itself. This results in a plot that is using as much of the \"screen real-estate\" as possible, and is usually what you want, but not always.\n",
    "\n",
    "To set the y-axis values explicitly, we'll use the `vmin` and `vmax` option parameters. Let's see it:"
   ]
  },
  {
   "cell_type": "code",
   "execution_count": null,
   "metadata": {},
   "outputs": [],
   "source": [
    "plt.figure(figsize=(15, 5))\n",
    "plt.subplot(1, 2, 1)\n",
    "plt.plot(spain['year'], spain['gdpPercap'], label='Spain', color='blue')\n",
    "plt.title('Spain')\n",
    "plt.xlabel('Time (Years)')\n",
    "plt.ylabel('Per-capita GPD (International Dollars)')\n",
    "plt.ylim(2500, 30000)\n",
    "plt.legend();\n",
    "\n",
    "plt.subplot(1, 2, 2)\n",
    "plt.plot(portugal['year'], portugal['gdpPercap'], label='Portugal', color='red')\n",
    "plt.title('Portugal')\n",
    "plt.xlabel('Time (Years)')\n",
    "plt.ylabel('Per-capita GPD (International Dollars)')\n",
    "plt.ylim(2500, 30000)\n",
    "plt.legend();"
   ]
  },
  {
   "cell_type": "markdown",
   "metadata": {},
   "source": [
    "Now we can see that Spain's per-capita GDP is actually much higher than Portugal's, which we couldn't easily tell before.\n",
    "\n",
    "Now let's use subplots to make scatter plots for each continent separately. Since we have data on 5 continents, we'll make a figure with 6 subplots, 3 rows and 2 columns.\n",
    "\n",
    "To do so we'll iterate (loop) over each continent and get a `DataFrame` that contains only the rows for countries in that continent. Then we'll set the subplot and create a scatter plot using that new `DataFrame`. Here's how it looks:"
   ]
  },
  {
   "cell_type": "code",
   "execution_count": null,
   "metadata": {},
   "outputs": [],
   "source": [
    "# NOTE: This MUST come first, one of the few things in plt where order matters\n",
    "plt.figure(figsize=(20, 20))\n",
    "\n",
    "for i,continent in enumerate(continents):\n",
    "    # Get a dataframe with just countries in the current continent\n",
    "    cur_continent_df = gm[gm['continent'] == continent]\n",
    "\n",
    "    # Set the current subplot\n",
    "    plt.subplot(3, 2, i+1)\n",
    "    \n",
    "    # make the current scatter plot \n",
    "    plt.scatter(np.log10(cur_continent_df['gdpPercap']), \n",
    "                cur_continent_df['lifeExp'], \n",
    "                marker='.', \n",
    "                c=cur_continent_df['year'], \n",
    "                cmap='hot')\n",
    "    plt.xlabel('$Log_{10}$ Per-Capita GDP (International Dollars)', fontsize=14)\n",
    "    plt.ylabel('Life Expectancy (Years)', fontsize=14)\n",
    "    plt.title(continent, fontsize=14)\n",
    "    plt.ylim(25, 85)\n",
    "    plt.colorbar().set_label('Year', fontsize=14);"
   ]
  },
  {
   "cell_type": "markdown",
   "metadata": {},
   "source": [
    "#### Challenge Questions\n",
    "\n",
    "8. We've seen that life expectancy and per-capita GDP have a positive relationship. What about the relationship between population and per-capita GDP, is there one? Create a scatter plot that compares the two across all countries in 2007. "
   ]
  },
  {
   "cell_type": "code",
   "execution_count": null,
   "metadata": {},
   "outputs": [],
   "source": []
  },
  {
   "cell_type": "markdown",
   "metadata": {},
   "source": [
    "9. Is that relationship between population and per-capita GDP different for the first year we have data in the dataset? Plot both first and latest years scatter next to each other in the same figure but different subplots. What can you say about any outliers you see?\n",
    "\n",
    "(*HINT*: First you need to extract another `DataFrame` containing the data from the first year)."
   ]
  },
  {
   "cell_type": "code",
   "execution_count": null,
   "metadata": {},
   "outputs": [],
   "source": []
  },
  {
   "cell_type": "markdown",
   "metadata": {},
   "source": [
    "#### Pandas approach\n",
    "\n",
    "Here are a pair of plots related to (but not directly answering) the above questions, using Pandas methods again."
   ]
  },
  {
   "cell_type": "code",
   "execution_count": null,
   "metadata": {},
   "outputs": [],
   "source": [
    "min_yr = gm.year.min()\n",
    "gm_first_yr = gm[gm.year == min_yr]\n",
    "gm.plot(x = 'gdpPercap', y='pop', kind='scatter', figsize=(10, 8))\n",
    "plt.xlabel('GDP per capita')\n",
    "plt.ylabel('Population')\n",
    "plt.title('Population vs. GPD per capita, first year');"
   ]
  },
  {
   "cell_type": "code",
   "execution_count": null,
   "metadata": {},
   "outputs": [],
   "source": [
    "gm.plot(x = 'gdpPercap', y='pop', c='year', cmap='spring', kind='scatter', figsize=(10, 8))\n",
    "plt.xlabel('GDP per capita')\n",
    "plt.ylabel('Population')\n",
    "plt.title('Population vs. GPD per capita, across years');"
   ]
  },
  {
   "cell_type": "markdown",
   "metadata": {},
   "source": [
    "10. **\\[OPTIONAL\\]** Above we created a scatter plot between life expectancy and per-capita GDP colored by year. That coloring was done in a continuous way. What if we wanted to color it by decade instead, making a discrete coloring? Run the code cell below to create a new variable called `decades`. Then create another scatter plot of life expectancy vs per-capita GDP assigning the color strings in `hexsix` to data points from each of the six decades in the dataset. "
   ]
  },
  {
   "cell_type": "code",
   "execution_count": null,
   "metadata": {},
   "outputs": [],
   "source": [
    "hexsix = np.array(['#ffffcc', '#d9f0a3', '#addd8e', '#78c679', '#31a354', '#006837'])\n",
    "gm['decade'] = (gm['year'] / 10).astype(int) * 10\n",
    "decades = gm['decade'].unique()\n",
    "decades"
   ]
  },
  {
   "cell_type": "code",
   "execution_count": null,
   "metadata": {},
   "outputs": [],
   "source": []
  },
  {
   "cell_type": "markdown",
   "metadata": {},
   "source": [
    "## Plot Customization"
   ]
  },
  {
   "cell_type": "markdown",
   "metadata": {},
   "source": [
    "The `matplotlib` defaults aren't the best. We've already changed several properties of the figures we've made, including the color and opacity of scatter plots, and font sizes for the title and axis label text. While this is useful, it can become tedious to include many customization parameters in every plot we make. We can, however, customize almost any property for all plots using the `matplotlibrc` configuration file. This file allows you to specify new default values for `matplotlib` properties, which are called \"rc settings\" or \"rc parameters\". These settings are then loaded every time you use `matplotlib`.\n",
    "\n",
    "The `matplotlibrc` file is typically found in the `.../site-packages/matplotlib/mpl-data` directory. Here is an example of a full path: `/usr/local/lib/python2.7/site-packages/matplotlib/mpl-data`. The full path on your computer will depend on where *your* Python is installed.\n"
   ]
  },
  {
   "cell_type": "markdown",
   "metadata": {},
   "source": [
    "Before setting these new rc settings manually, let's create a plot using the default rc settings, so we can see how they change the look of the plot. \n",
    "\n",
    "We'll plot the average per-capita GDP across time for each continent separately. To do this we'll use `groupby` again, this time grouping by continent and year, and then taking the mean over GDP."
   ]
  },
  {
   "cell_type": "code",
   "execution_count": null,
   "metadata": {},
   "outputs": [],
   "source": [
    "per_continent_mean_gdp = gm.groupby(['continent', 'year'], as_index=False)['gdpPercap'].mean()"
   ]
  },
  {
   "cell_type": "code",
   "execution_count": null,
   "metadata": {},
   "outputs": [],
   "source": [
    "plt.figure(figsize=(10, 8))\n",
    "\n",
    "for continent in continents:\n",
    "    cur_continent_df = per_continent_mean_gdp[per_continent_mean_gdp['continent'] == continent]\n",
    "    plt.plot(cur_continent_df['year'], \n",
    "             cur_continent_df['gdpPercap'], \n",
    "             alpha=0.75, \n",
    "             label=continent)\n",
    "\n",
    "plt.title('Continent-Level Average GDP Per Capita, by Year')\n",
    "plt.xlabel('Year')\n",
    "plt.ylabel('Average GDP Per Capita')\n",
    "plt.legend(loc='upper left');"
   ]
  },
  {
   "cell_type": "markdown",
   "metadata": {},
   "source": [
    "Ok, that's a decent looking plot, but it can be better! Let's change the default rc settings. Instead of modifying the `matplotlibrc` file directly, we'll change some default rc settings directly using Python code. Changing the rc settings in code *does not* modify your `matplotlibrc` file, and it only changes the settings for the current Python session. \n",
    "\n",
    "Below is a dictionary containing some rc parameters whose values we're going to modify. The keys of the dictionary are the rc parameter names, and the values are the new defaults that we're setting. \n",
    "\n",
    "These parameter values come from Cameron Davidson-Pilon's [Bayesian Methods for Hackers](https://github.com/CamDavidsonPilon/Probabilistic-Programming-and-Bayesian-Methods-for-Hackers/blob/master/styles/matplotlibrc#L240) colors.\n",
    "\n",
    "Let's have a look..."
   ]
  },
  {
   "cell_type": "code",
   "execution_count": null,
   "metadata": {},
   "outputs": [],
   "source": [
    "params = {'figure.facecolor' : 'white',\n",
    "          'axes.facecolor' : 'white',\n",
    "          \n",
    "          'axes.titlesize' : 'x-large',\n",
    "          'axes.axisbelow' : True,\n",
    "          \n",
    "          'axes.edgecolor' : 'DimGray',\n",
    "          'axes.linewidth' : 0.5,\n",
    "          \n",
    "          'axes.labelsize' : 'large',\n",
    "          'axes.labelcolor' : '#4A4A4A',\n",
    "          \n",
    "          'axes.grid' : True,\n",
    "          'grid.linestyle' : ':',\n",
    "          'grid.color' : 'DimGray',\n",
    "          'grid.alpha' : 0.5,\n",
    "          \n",
    "          'xtick.color' : '#4A4A4A',\n",
    "          'xtick.major.size' : 0,\n",
    "          'xtick.minor.size' : 0,\n",
    "          'xtick.labelsize' : 'medium',\n",
    "          \n",
    "          'ytick.color' : '#4A4A4A',\n",
    "          'ytick.major.size' : 0,\n",
    "          'ytick.minor.size' : 0,\n",
    "          'ytick.labelsize' : 'medium',\n",
    "          \n",
    "          'text.color' : '#4A4A4A',\n",
    "          \n",
    "          'legend.fancybox' : False,\n",
    "          'legend.frameon' : False,\n",
    "          'legend.fontsize' : 'large'}"
   ]
  },
  {
   "cell_type": "markdown",
   "metadata": {},
   "source": [
    "We don't have the time to go through each setting separately, so we'll just see the overall before and after effect. The names are somewhat intuitive however, but more information on all the settings can be found in the [documentation](https://matplotlib.org/stable/tutorials/introductory/customizing.html). You can also get a complete list of all the possible parameters by printing `mpl.rcParams`.\n",
    "\n",
    "The rc settings are stored in a dictionary-like variable called `matplotlib.rcParams`. Because we imported `matplotlib` using `import matplotlib as mpl`, we'll need to use `mpl.rcParams` instead. \n",
    "\n",
    "To update the default settings we simply iterate over all of the rcsettings in the dictionary we just created, and update `plt.rcParams` with each key/value pair, like this."
   ]
  },
  {
   "cell_type": "code",
   "execution_count": null,
   "metadata": {},
   "outputs": [],
   "source": [
    "for (k, v) in params.items():\n",
    "    plt.rcParams[k] = v"
   ]
  },
  {
   "cell_type": "markdown",
   "metadata": {},
   "source": [
    "Now let's recreate the same exact time-series plot of the average GDP per continent. The code here is *EXACTLY* the same as in several cells above. What makes the plots look different is the setting of the default rc parameters we just did."
   ]
  },
  {
   "cell_type": "code",
   "execution_count": null,
   "metadata": {},
   "outputs": [],
   "source": [
    "plt.figure(figsize=(10, 8))\n",
    "\n",
    "for continent in continents:\n",
    "    cur_continent_df = per_continent_mean_gdp[per_continent_mean_gdp['continent'] == continent]\n",
    "    plt.plot(cur_continent_df['year'], \n",
    "             cur_continent_df['gdpPercap'], \n",
    "             alpha=0.75, \n",
    "             label=continent)\n",
    "\n",
    "plt.title('Continent-Level Average GDP Per Capita, by Year')\n",
    "plt.xlabel('Year')\n",
    "plt.ylabel('Average GDP Per Capita')\n",
    "plt.legend(loc='upper left');"
   ]
  },
  {
   "cell_type": "markdown",
   "metadata": {},
   "source": [
    "What's changed? Do you like this look better?"
   ]
  },
  {
   "cell_type": "markdown",
   "metadata": {},
   "source": [
    "#### Style Sheets\n",
    "\n",
    "Style sheets are built-in collections of rc parameters that allow for a quick and easy way to get nice looking plots in a particular style. To use a style sheet you simply call the `plt.style.use()` function and give it the name of the style sheet you want to use. Let's try to use the \"Five Thirty Eight\" style sheet, the name of which you might recognize as Nate Silver's website, of New York Times data visualization fame.\n",
    "\n",
    "For more on style sheets print all available style sheets using `plt.style.available`, or see the ([documentation](https://matplotlib.org/stable/tutorials/introductory/customizing.html))."
   ]
  },
  {
   "cell_type": "code",
   "execution_count": null,
   "metadata": {},
   "outputs": [],
   "source": [
    "plt.style.use('fivethirtyeight')"
   ]
  },
  {
   "cell_type": "markdown",
   "metadata": {},
   "source": [
    "Now we'll use the same code again, and see how it has changed!"
   ]
  },
  {
   "cell_type": "code",
   "execution_count": null,
   "metadata": {},
   "outputs": [],
   "source": [
    "plt.figure(figsize=(10, 8))\n",
    "\n",
    "for continent in continents:\n",
    "    cur_continent_df = per_continent_mean_gdp[per_continent_mean_gdp['continent'] == continent]\n",
    "    plt.plot(cur_continent_df['year'], \n",
    "             cur_continent_df['gdpPercap'], \n",
    "             alpha=0.75, \n",
    "             label=continent)\n",
    "\n",
    "plt.title('Continent-Level Average GDP Per Capita, by Year')\n",
    "plt.xlabel('Year')\n",
    "plt.ylabel('Average GDP Per Capita')\n",
    "plt.legend(loc='upper left');"
   ]
  },
  {
   "cell_type": "markdown",
   "metadata": {},
   "source": [
    "## Seaborn"
   ]
  },
  {
   "cell_type": "markdown",
   "metadata": {},
   "source": [
    "\"`Seaborn` is a Python visualization library based on `Matplotlib`. It provides a high-level interface for drawing attractive statistical graphics.\"\n",
    "\n",
    "Let's import it and give it the alias `sns`, which is done by convention."
   ]
  },
  {
   "cell_type": "code",
   "execution_count": null,
   "metadata": {},
   "outputs": [],
   "source": [
    "import seaborn as sns\n",
    "sns.set(rc={'axes.facecolor' : '#EEEEEE'})"
   ]
  },
  {
   "cell_type": "markdown",
   "metadata": {},
   "source": [
    "The `sns.set()` function allows us to change some of the `rcParams`. Here, we're changing the plot's face color.\n",
    "\n",
    "`seaborn` has the capacity to create a large number of informative, beautiful plots very easily. Here we'll review several types, but please visit their [gallery](https://seaborn.pydata.org/examples/index.html) for a more complete picture of all that you can do with `seaborn`."
   ]
  },
  {
   "cell_type": "markdown",
   "metadata": {},
   "source": [
    "### Boxplots Revisited\n",
    "We previously looked at boxplots in `matplotlib`. Let's now use `seaborn` to look at the distributions of life expectancies separately for each continent. \n",
    "\n",
    "`Seaborn` includes native support for `pandas` data structures. To use it we specify the `DataFrame` we want to take the data from in the `data` parameter. We then specify which column names (or variables) from that `DataFrame` to use for in `x` and `y`. `x` specifies the variable to groupby, and `y` specifies the variable whose distribution should be plotted.\n",
    "\n",
    "We'll plot the continents in alphabetical order by specifying the `order=` parameter, make the box face colors all white using `color='white'`, and disable drawing of the fliers (or outliers) using `fliersize=0`.\n",
    "\n",
    "In addition to the boxplot, we'll plot a **stripplot**, which overlays a scatter plot of all the data points over each box. In combination, they're quite useful for understanding distributions. This takes many of the same parameters as the boxplot did, with the exception of `jitter=True` which causes the scatter markers to be slightly jittered horizontally. "
   ]
  },
  {
   "cell_type": "code",
   "execution_count": null,
   "metadata": {},
   "outputs": [],
   "source": [
    "plt.figure(figsize=(10, 8))\n",
    "\n",
    "sns.boxplot(x=\"continent\", y=\"lifeExp\", data=gm,\n",
    "            order=np.sort(gm.continent.unique()),\n",
    "            color='white', fliersize=0)\n",
    "sns.stripplot(x=\"continent\", y=\"lifeExp\", data=gm,\n",
    "              order=np.sort(gm.continent.unique()),\n",
    "              alpha=0.25, size=5, jitter=True,\n",
    "              color='Black', edgecolor='Black')\n",
    "\n",
    "plt.title(\"Life Expectancy by Continent\")\n",
    "plt.xlabel('Continent')\n",
    "plt.ylabel('Life Expectancy');"
   ]
  },
  {
   "cell_type": "markdown",
   "metadata": {},
   "source": [
    "With just a few lines of code we have a very nice looking plot using `seaborn`. It's possible to create a stripplot using `Matplotlib`, but it's not as easy as it is with `Seaborn`."
   ]
  },
  {
   "cell_type": "markdown",
   "metadata": {},
   "source": [
    "### Heatmaps \n",
    "`Seaborn` can be used to create Heatmaps which are helpful visualizations when we would like to plot three variables, one continuous and two factors in which a color scale is created to highlight the magnitude of the continuous variable.\n",
    "\n",
    "We will revisit our `per_continent_mean_gdp` dataset that outlines the average per-capita GDP across time for each continent to create our heatmap. "
   ]
  },
  {
   "cell_type": "code",
   "execution_count": null,
   "metadata": {},
   "outputs": [],
   "source": [
    "heatmap = per_continent_mean_gdp.pivot(index=\"year\", \n",
    "                                       columns=\"continent\", \n",
    "                                       values=\"gdpPercap\")\n",
    "heatmap = heatmap.sort_index(ascending=False)\n",
    "heatmap_graph = sns.heatmap(heatmap,\n",
    "           cbar_kws = {'label' : \"gdpPercap\"})\n",
    "\n",
    "plt.title(\"Average per-capita GDP across time for each continent\");"
   ]
  },
  {
   "cell_type": "markdown",
   "metadata": {},
   "source": [
    "### Regression Plots\n",
    "\n",
    "While `seaborn` provides easy ways to make nice-looking plots, it is ultimately a package built for statistical data visualization. It includes many useful built-in plots, such as the following **regression plot**. Here all the data values are plotted using a scatter plot, and a regression line is fit, and plotted, over that data. "
   ]
  },
  {
   "cell_type": "code",
   "execution_count": null,
   "metadata": {},
   "outputs": [],
   "source": [
    "sns.regplot(x='year', y='lifeExp', data=gm, color='teal')\n",
    "\n",
    "plt.title('Distribution of Life Expectancy, by Year')\n",
    "plt.xlabel('Year')\n",
    "plt.ylabel('Life Expectancy');"
   ]
  },
  {
   "cell_type": "markdown",
   "metadata": {},
   "source": [
    "### Kernel Density Plots\n",
    "\n",
    "We learned earlier that histograms can be used to visualize the discretized distribution of a variable. We must specify the number of bins in a histogram and as a result the shape of the distribution can change wildly depending on that somewhat arbitrary choice.\n",
    "\n",
    "A better way to plot a distribution is to estimate it's kernel density and plot it using `sns.kdeplot()`. Let's plot the kernel density for per-capita GDP in 2007 as we did earlier using a histogram. In fact, let's plot the two side by side using subplots."
   ]
  },
  {
   "cell_type": "code",
   "execution_count": null,
   "metadata": {},
   "outputs": [],
   "source": [
    "plt.figure(figsize=(15, 5))\n",
    "\n",
    "plt.subplot(1, 2, 1)\n",
    "plt.hist(gm_latest['gdpPercap'])\n",
    "plt.xlabel('gdpPercap')\n",
    "plt.ylabel(\"# of Countries\")\n",
    "plt.title('Histogram of 2007 GDP')\n",
    "\n",
    "plt.subplot(1, 2, 2)\n",
    "sns.kdeplot(gm_latest['gdpPercap'], shade=True)\n",
    "plt.title('Kernel Density of 2007 GDP');"
   ]
  },
  {
   "cell_type": "markdown",
   "metadata": {},
   "source": [
    "### Joint Distribution Plots\n",
    "\n",
    "We've already used scatter plots to visualize the relationship between two variables. It is sometimes useful to not only see the relationship between the two variables, but to visualize each variables respective distribution. The `sns.jointplot` function in `seaborn` let's you do just that.\n",
    "\n",
    "Let's compare the log of per-capita GDP and life expectancy in a joint distribution plot."
   ]
  },
  {
   "cell_type": "code",
   "execution_count": null,
   "metadata": {},
   "outputs": [],
   "source": [
    "sns.jointplot(x=np.log10(gm['gdpPercap']), y=gm['lifeExp'], color=\"#348ABD\", alpha=0.5);"
   ]
  },
  {
   "cell_type": "markdown",
   "metadata": {},
   "source": [
    "### Caveats\n",
    "\n",
    "It's important to note that a side effect of importing `seaborn` is that it changes *all* plot styles. For example, if you wanted to create the same line plot of Portugal's GDP over time using `matplotlib`, it would now look like the following since we've already imported searborn."
   ]
  },
  {
   "cell_type": "code",
   "execution_count": null,
   "metadata": {},
   "outputs": [],
   "source": [
    "plt.plot(portugal['year'], portugal['gdpPercap'])\n",
    "plt.title('Per-capita GDP of Portugal')\n",
    "plt.xlabel('Time (Years)')\n",
    "plt.ylabel('Per-capita GPD (Millions of USD)');"
   ]
  },
  {
   "cell_type": "markdown",
   "metadata": {},
   "source": [
    "### `FacetGrid`\n",
    "\n",
    "In the previous `matplotlib` section we used `subplots` to make continent-specific scatter plots of per-capita GDP vs. life expectancy. Let's see how much easier that can be done using the `FacetGrid` in `seaborn`."
   ]
  },
  {
   "cell_type": "code",
   "execution_count": null,
   "metadata": {},
   "outputs": [],
   "source": [
    "g = sns.FacetGrid(gm, col='continent', col_wrap=3, height=4, sharex=False)\n",
    "g.map(plt.scatter, 'gdpPercap', 'lifeExp', marker='.');"
   ]
  },
  {
   "cell_type": "markdown",
   "metadata": {},
   "source": [
    "That's pretty good, and quick. We are missing the color coding based on year however. To add this capability, and to shorten the code even further, we'll use a `relplot`, or relational plot."
   ]
  },
  {
   "cell_type": "code",
   "execution_count": null,
   "metadata": {},
   "outputs": [],
   "source": [
    "sns.relplot(x='gdpPercap', \n",
    "            y='lifeExp', \n",
    "            hue='year', \n",
    "            col='continent', \n",
    "            col_wrap=3, \n",
    "            palette='hot', \n",
    "            legend='full',\n",
    "            kind='scatter',\n",
    "            facet_kws={'sharex':False},\n",
    "            data=gm);"
   ]
  },
  {
   "cell_type": "markdown",
   "metadata": {},
   "source": [
    "You can also use `sns.relplot` for line plots. In fact, many `seaborn` plots can be easily plotted using a FacetGrid using another plotting function, just as `relplot` integrates a `FacetGrid` with either a `scatter` or `line` plot. See the [API documentation](https://seaborn.pydata.org/api.html) for more details."
   ]
  },
  {
   "cell_type": "markdown",
   "metadata": {},
   "source": [
    "## Saving Plots"
   ]
  },
  {
   "cell_type": "markdown",
   "metadata": {},
   "source": [
    "Finally, if you'd like to save a plot you can use the `plt.savefig` function that is part of the matplotlib package. This will create an image file saved to wherever you specify. Running the cell below will save the plot as `facetgrid_graph.png` within your current directory. Refer to `help(plt.savefig)` for more documentation on this function."
   ]
  },
  {
   "cell_type": "code",
   "execution_count": null,
   "metadata": {},
   "outputs": [],
   "source": [
    "sns.relplot(x='year', \n",
    "            y='gdpPercap', \n",
    "            hue='continent',\n",
    "            col='continent', \n",
    "            col_wrap=3, \n",
    "            legend=None,\n",
    "            kind='line',\n",
    "            facet_kws={'sharex':False},\n",
    "            data=per_continent_mean_gdp);\n",
    "plt.savefig('facetgrid_graph.png')"
   ]
  },
  {
   "cell_type": "markdown",
   "metadata": {},
   "source": [
    "## Going further"
   ]
  },
  {
   "cell_type": "markdown",
   "metadata": {},
   "source": [
    "There are many visualization libraries in Python and you now have experience in using two popular ones.\n",
    "\n",
    "Several other Python visualization libraries exist for creating *interactive* visualizations such as [Plotly](https://plot.ly/python/), [Bokeh](http://bokeh.pydata.org/en/latest/), or [Toyplot](http://toyplot.readthedocs.org/en/stable/tutorial.html#getting-started)."
   ]
  }
 ],
 "metadata": {
  "hide_input": false,
  "kernelspec": {
   "display_name": "Python 3 (ipykernel)",
   "language": "python",
   "name": "python3"
  },
  "language_info": {
   "codemirror_mode": {
    "name": "ipython",
    "version": 3
   },
   "file_extension": ".py",
   "mimetype": "text/x-python",
   "name": "python",
   "nbconvert_exporter": "python",
   "pygments_lexer": "ipython3",
   "version": "3.9.7"
  },
  "toc": {
   "base_numbering": 1,
   "nav_menu": {},
   "number_sections": false,
   "sideBar": true,
   "skip_h1_title": false,
   "title_cell": "Table of Contents",
   "title_sidebar": "Contents",
   "toc_cell": false,
   "toc_position": {
    "height": "calc(100% - 180px)",
    "left": "10px",
    "top": "150px",
    "width": "235px"
   },
   "toc_section_display": true,
   "toc_window_display": true
  },
  "varInspector": {
   "cols": {
    "lenName": 16,
    "lenType": 16,
    "lenVar": 40
   },
   "kernels_config": {
    "python": {
     "delete_cmd_postfix": "",
     "delete_cmd_prefix": "del ",
     "library": "var_list.py",
     "varRefreshCmd": "print(var_dic_list())"
    },
    "r": {
     "delete_cmd_postfix": ") ",
     "delete_cmd_prefix": "rm(",
     "library": "var_list.r",
     "varRefreshCmd": "cat(var_dic_list()) "
    }
   },
   "types_to_exclude": [
    "module",
    "function",
    "builtin_function_or_method",
    "instance",
    "_Feature"
   ],
   "window_display": false
  }
 },
 "nbformat": 4,
 "nbformat_minor": 4
}
